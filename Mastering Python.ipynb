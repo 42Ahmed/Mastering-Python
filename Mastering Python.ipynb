{
 "cells": [
  {
   "attachments": {},
   "cell_type": "markdown",
   "metadata": {},
   "source": [
    "# Table of Contents\n",
    "* [Week 1](#week1)\n",
    "    * [001 – Introduction and What Is Python ?](#1)  \n",
    "    * [002 – What I Need ?](#2)  \n",
    "    * [003 – Syntax And Your First App](#3)\n",
    "    * [004 – Comments](#4)\n",
    "    * [005 – Dealing With Data In Python](#5)\n",
    "    * [006 – Some Data Types Overview](#6)\n",
    "    * [007 – Variables Part One](#7)\n",
    "    * [008 – Variables Part Two](#8)\n",
    "    * [009 – Escape Sequences Characters](#9)\n",
    "    * [010 – Concatenation And Trainings](#10)\n",
    "* [Week 2](#week2)  \n",
    "    * [011 – Strings](#11)\n",
    "    * [012 – Strings – Indexing and Slicing](#12)\n",
    "    * [013 – Strings Methods Part 1](#13)\n",
    "    * [014 – Strings Methods Part 2](#14)\n",
    "    * [015 – Strings Methods Part 3](#15)\n",
    "    * [016 – Strings Methods Part 4](#16)\n",
    "    * [017 – Strings Formatting Old Way](#17)\n",
    "    * [018 – Strings Formatting New Way](#18)\n",
    "* [Week 3](#week3)  \n",
    "    * [019 – Numbers](#19)\n",
    "    * [020 – Arithmetic Operators](#20)\n",
    "    * [021 – Lists](#21)\n",
    "    * [022 – Lists Methods Part 1](#22)\n",
    "    * [023 – Lists Methods Part 2](#23)\n",
    "    * [024 – Tuples Methods Part 1](#24)\n",
    "    * [025 – Tuples Methods Part 2](#25)\n",
    "* [Week 4](#week4)  \n",
    "    * [026 – Set](#26)\n",
    "    * [027 – Set Methods Part 1](#27)\n",
    "    * [028 – Set Methods Part 2](#28)\n",
    "    * [029 – Set Methods Part 3](#29)\n",
    "    * [030 – Dictionary](#30)\n",
    "    * [031 – Dictionary Methods Part 1](#31)\n",
    "    * [032 – Dictionary Methods Part 2](#32)\n",
    "* [Week 5](#week5)  \n",
    "    * [033 – Boolean](#33)\n",
    "    * [034 – Boolean Operators](#34)\n",
    "    * [035 – Assignment Operators](#35)\n",
    "    * [036 – Comparison Operators](#36)\n",
    "    * [037 – Type Conversion](#37)\n",
    "    * [038 – User Input](#38)\n",
    "    * [039 – Practical – Email Slice](#39)\n",
    "    * [040 – Practical – Your Age In Full Details](#40)\n"
   ]
  },
  {
   "cell_type": "markdown",
   "metadata": {},
   "source": [
    "# Week 1\n",
    "<a class=\"anchor\" id=\"week1\"></a> "
   ]
  },
  {
   "attachments": {},
   "cell_type": "markdown",
   "metadata": {},
   "source": [
    "## 003 – Syntax And Your First App\n",
    "<a class=\"anchor\" id=\"3\"></a>"
   ]
  },
  {
   "cell_type": "code",
   "execution_count": 1,
   "metadata": {},
   "outputs": [
    {
     "name": "stdout",
     "output_type": "stream",
     "text": [
      "I love python\n"
     ]
    }
   ],
   "source": [
    "print(\"I love python\")"
   ]
  },
  {
   "cell_type": "code",
   "execution_count": 2,
   "metadata": {},
   "outputs": [
    {
     "name": "stdout",
     "output_type": "stream",
     "text": [
      "i love programming\n"
     ]
    }
   ],
   "source": [
    "print(\"i love programming\")"
   ]
  },
  {
   "cell_type": "code",
   "execution_count": 3,
   "metadata": {},
   "outputs": [
    {
     "name": "stdout",
     "output_type": "stream",
     "text": [
      "1\n",
      "2\n"
     ]
    }
   ],
   "source": [
    "print(1);print(2)"
   ]
  },
  {
   "cell_type": "code",
   "execution_count": 4,
   "metadata": {},
   "outputs": [
    {
     "name": "stdout",
     "output_type": "stream",
     "text": [
      "1\n"
     ]
    }
   ],
   "source": [
    "if True:\n",
    "    print(1)"
   ]
  },
  {
   "attachments": {},
   "cell_type": "markdown",
   "metadata": {},
   "source": [
    "## 004 – Comments\n",
    "<a class=\"anchor\" id=\"4\"></a>"
   ]
  },
  {
   "cell_type": "code",
   "execution_count": 5,
   "metadata": {},
   "outputs": [],
   "source": [
    "# this is a comment\n",
    "# -----------\n",
    "# hola\n",
    "#------------"
   ]
  },
  {
   "cell_type": "code",
   "execution_count": 6,
   "metadata": {},
   "outputs": [
    {
     "name": "stdout",
     "output_type": "stream",
     "text": [
      "hi\n"
     ]
    }
   ],
   "source": [
    "print(\"hi\") #inline comment"
   ]
  },
  {
   "cell_type": "code",
   "execution_count": 7,
   "metadata": {},
   "outputs": [],
   "source": [
    "#print(\"ignore this code\")"
   ]
  },
  {
   "cell_type": "code",
   "execution_count": 8,
   "metadata": {},
   "outputs": [
    {
     "data": {
      "text/plain": [
       "'\\n not multiline comment\\n'"
      ]
     },
     "execution_count": 8,
     "metadata": {},
     "output_type": "execute_result"
    }
   ],
   "source": [
    "'''\n",
    " not multiline comment\n",
    "'''"
   ]
  },
  {
   "attachments": {},
   "cell_type": "markdown",
   "metadata": {},
   "source": [
    "## 006 – Some Data Types Overview\n",
    "<a class=\"anchor\" id=\"6\"></a>"
   ]
  },
  {
   "cell_type": "code",
   "execution_count": 9,
   "metadata": {},
   "outputs": [
    {
     "data": {
      "text/plain": [
       "int"
      ]
     },
     "execution_count": 9,
     "metadata": {},
     "output_type": "execute_result"
    }
   ],
   "source": [
    "type(10)\n",
    "# all data in python is object"
   ]
  },
  {
   "cell_type": "code",
   "execution_count": 10,
   "metadata": {},
   "outputs": [
    {
     "data": {
      "text/plain": [
       "float"
      ]
     },
     "execution_count": 10,
     "metadata": {},
     "output_type": "execute_result"
    }
   ],
   "source": [
    "type(10.1)"
   ]
  },
  {
   "cell_type": "code",
   "execution_count": 11,
   "metadata": {},
   "outputs": [
    {
     "data": {
      "text/plain": [
       "str"
      ]
     },
     "execution_count": 11,
     "metadata": {},
     "output_type": "execute_result"
    }
   ],
   "source": [
    "type(\"hello\")"
   ]
  },
  {
   "cell_type": "code",
   "execution_count": 12,
   "metadata": {},
   "outputs": [
    {
     "data": {
      "text/plain": [
       "list"
      ]
     },
     "execution_count": 12,
     "metadata": {},
     "output_type": "execute_result"
    }
   ],
   "source": [
    "type([1,2,3])"
   ]
  },
  {
   "cell_type": "code",
   "execution_count": 13,
   "metadata": {},
   "outputs": [
    {
     "data": {
      "text/plain": [
       "tuple"
      ]
     },
     "execution_count": 13,
     "metadata": {},
     "output_type": "execute_result"
    }
   ],
   "source": [
    "type((1,2,3))"
   ]
  },
  {
   "cell_type": "code",
   "execution_count": 14,
   "metadata": {},
   "outputs": [
    {
     "name": "stdout",
     "output_type": "stream",
     "text": [
      "<class 'dict'>\n"
     ]
    }
   ],
   "source": [
    "print(type({\"one\":1}))"
   ]
  },
  {
   "cell_type": "code",
   "execution_count": 15,
   "metadata": {},
   "outputs": [
    {
     "name": "stdout",
     "output_type": "stream",
     "text": [
      "<class 'bool'>\n"
     ]
    }
   ],
   "source": [
    "print(type(1==1))"
   ]
  },
  {
   "attachments": {},
   "cell_type": "markdown",
   "metadata": {},
   "source": [
    "## 007 – Variables Part One\n",
    "<a class=\"anchor\" id=\"7\"></a>"
   ]
  },
  {
   "cell_type": "code",
   "execution_count": 16,
   "metadata": {},
   "outputs": [
    {
     "name": "stdout",
     "output_type": "stream",
     "text": [
      "my value\n"
     ]
    }
   ],
   "source": [
    "# syntax => [variable name][assignment operator][value]\n",
    "myVariable=\"my value\"\n",
    "print(myVariable)"
   ]
  },
  {
   "cell_type": "code",
   "execution_count": 17,
   "metadata": {},
   "outputs": [
    {
     "name": "stdout",
     "output_type": "stream",
     "text": [
      "value\n"
     ]
    }
   ],
   "source": [
    "my_value = \"value\"\n",
    "print(my_value)"
   ]
  },
  {
   "cell_type": "code",
   "execution_count": 18,
   "metadata": {},
   "outputs": [],
   "source": [
    "# print(name)\n",
    "# name =\"yay\" will generate error\n",
    "# must assign value first before printing"
   ]
  },
  {
   "cell_type": "code",
   "execution_count": 19,
   "metadata": {},
   "outputs": [],
   "source": [
    "name = \"baka\" #single word\n",
    "myName=\"baka\"#camelCase\n",
    "my_name=\"baka\"  #snake_case"
   ]
  },
  {
   "attachments": {},
   "cell_type": "markdown",
   "metadata": {},
   "source": [
    "## 008 – Variables Part Two\n",
    "<a class=\"anchor\" id=\"8\"></a>"
   ]
  },
  {
   "attachments": {},
   "cell_type": "markdown",
   "metadata": {},
   "source": [
    " Source Code : Original Code You Write it in Computer  \n",
    " Translation : Converting Source Code Into Machine Language  \n",
    " Compilation : Translate Code Before Run Time  \n",
    " Run-Time : Period App Take To Executing Commands  \n",
    " Interpreted : Code Translated On The Fly During Executionm"
   ]
  },
  {
   "cell_type": "code",
   "execution_count": 20,
   "metadata": {},
   "outputs": [
    {
     "name": "stdout",
     "output_type": "stream",
     "text": [
      "hello\n"
     ]
    }
   ],
   "source": [
    "x=10\n",
    "x=\"hello\"\n",
    "print(x) #dynamically typed language"
   ]
  },
  {
   "cell_type": "code",
   "execution_count": 21,
   "metadata": {},
   "outputs": [
    {
     "name": "stdout",
     "output_type": "stream",
     "text": [
      "\n",
      "Here is a list of the Python keywords.  Enter any keyword to get more help.\n",
      "\n",
      "False               class               from                or\n",
      "None                continue            global              pass\n",
      "True                def                 if                  raise\n",
      "and                 del                 import              return\n",
      "as                  elif                in                  try\n",
      "assert              else                is                  while\n",
      "async               except              lambda              with\n",
      "await               finally             nonlocal            yield\n",
      "break               for                 not                 \n",
      "\n"
     ]
    }
   ],
   "source": [
    "help(\"keywords\")#reserved words"
   ]
  },
  {
   "cell_type": "code",
   "execution_count": 22,
   "metadata": {},
   "outputs": [
    {
     "name": "stdout",
     "output_type": "stream",
     "text": [
      "1 2 3\n"
     ]
    }
   ],
   "source": [
    "a,b,c =1,2,3\n",
    "print(a,b,c)"
   ]
  },
  {
   "attachments": {},
   "cell_type": "markdown",
   "metadata": {},
   "source": [
    "## 009 – Escape Sequences Characters\n",
    "<a class=\"anchor\" id=\"9\"></a>"
   ]
  },
  {
   "attachments": {},
   "cell_type": "markdown",
   "metadata": {},
   "source": [
    "### Escape Sequences Characters\n",
    "\\b => Back Space  \n",
    "\\newline => Escape New Line + \\  \n",
    "\\\\\\ => Escape Back Slash  \n",
    "\\' => Escape Single Quotes  \n",
    "\\\" => Escape Double Quotes  \n",
    "\\n => Line Feed  \n",
    "\\r => Carriage Return  \n",
    "\\t => Horizontal Tab  \n",
    "\\xhh => Character Hex Value"
   ]
  },
  {
   "cell_type": "code",
   "execution_count": 23,
   "metadata": {},
   "outputs": [
    {
     "name": "stdout",
     "output_type": "stream",
     "text": [
      "hellword\n"
     ]
    }
   ],
   "source": [
    "print(\"hello\\bword\")"
   ]
  },
  {
   "cell_type": "code",
   "execution_count": 24,
   "metadata": {},
   "outputs": [
    {
     "name": "stdout",
     "output_type": "stream",
     "text": [
      "hellopython\n"
     ]
    }
   ],
   "source": [
    "print(\"hello\\\n",
    "python\")"
   ]
  },
  {
   "cell_type": "code",
   "execution_count": 25,
   "metadata": {},
   "outputs": [
    {
     "name": "stdout",
     "output_type": "stream",
     "text": [
      "i love \\python\n"
     ]
    }
   ],
   "source": [
    "print(\"i love \\\\python\")"
   ]
  },
  {
   "cell_type": "code",
   "execution_count": 26,
   "metadata": {},
   "outputs": [
    {
     "name": "stdout",
     "output_type": "stream",
     "text": [
      "i love sinqle quote \"\n"
     ]
    }
   ],
   "source": [
    "print(\"i love sinqle quote \\\"\")"
   ]
  },
  {
   "cell_type": "code",
   "execution_count": 27,
   "metadata": {},
   "outputs": [
    {
     "name": "stdout",
     "output_type": "stream",
     "text": [
      "hello \n",
      "world\n"
     ]
    }
   ],
   "source": [
    "print(\"hello \\nworld\")"
   ]
  },
  {
   "cell_type": "code",
   "execution_count": 28,
   "metadata": {},
   "outputs": [
    {
     "name": "stdout",
     "output_type": "stream",
     "text": [
      "abcd56\n"
     ]
    }
   ],
   "source": [
    "print(\"123456\\rabcd\")"
   ]
  },
  {
   "cell_type": "code",
   "execution_count": 29,
   "metadata": {},
   "outputs": [
    {
     "name": "stdout",
     "output_type": "stream",
     "text": [
      "hello \tworld\n"
     ]
    }
   ],
   "source": [
    "print(\"hello \\tworld\")"
   ]
  },
  {
   "cell_type": "code",
   "execution_count": 30,
   "metadata": {},
   "outputs": [
    {
     "name": "stdout",
     "output_type": "stream",
     "text": [
      "Os\n"
     ]
    }
   ],
   "source": [
    "print(\"\\x4F\\x73\")"
   ]
  },
  {
   "attachments": {},
   "cell_type": "markdown",
   "metadata": {},
   "source": [
    "## 010 – Concatenation And Trainings\n",
    "<a class=\"anchor\" id=\"10\"></a>"
   ]
  },
  {
   "cell_type": "code",
   "execution_count": 31,
   "metadata": {},
   "outputs": [
    {
     "name": "stdout",
     "output_type": "stream",
     "text": [
      "i love python\n"
     ]
    }
   ],
   "source": [
    "msg = \"i love\"\n",
    "lang = \"python\"\n",
    "print(msg + \" \"+lang)"
   ]
  },
  {
   "cell_type": "code",
   "execution_count": 32,
   "metadata": {},
   "outputs": [
    {
     "name": "stdout",
     "output_type": "stream",
     "text": [
      "i love python\n"
     ]
    }
   ],
   "source": [
    "full = msg + \" \"+ lang\n",
    "print(full)"
   ]
  },
  {
   "cell_type": "code",
   "execution_count": 33,
   "metadata": {},
   "outputs": [
    {
     "name": "stdout",
     "output_type": "stream",
     "text": [
      "first    second        third\n",
      "A    B    C\n"
     ]
    }
   ],
   "source": [
    "a = \"first\\\n",
    "    second\\\n",
    "        third\"\n",
    "b = \"A\\\n",
    "    B\\\n",
    "    C\"\n",
    "print(a)\n",
    "print(b)"
   ]
  },
  {
   "cell_type": "code",
   "execution_count": 34,
   "metadata": {},
   "outputs": [
    {
     "name": "stdout",
     "output_type": "stream",
     "text": [
      "first    second        third\n",
      "A    B    C\n"
     ]
    }
   ],
   "source": [
    "print(a + \"\\n\"+b)"
   ]
  },
  {
   "attachments": {},
   "cell_type": "markdown",
   "metadata": {},
   "source": [
    "`print(\"hi\"+1)` will produce an error"
   ]
  },
  {
   "cell_type": "code",
   "execution_count": 35,
   "metadata": {},
   "outputs": [
    {
     "name": "stdout",
     "output_type": "stream",
     "text": [
      "i love 1\n"
     ]
    }
   ],
   "source": [
    "print(msg +\" 1\")"
   ]
  },
  {
   "cell_type": "markdown",
   "metadata": {},
   "source": [
    "# Week 2\n",
    "<a class=\"anchor\" id=\"week2\"></a>"
   ]
  },
  {
   "attachments": {},
   "cell_type": "markdown",
   "metadata": {},
   "source": [
    "## 011 – Strings\n",
    "<a class=\"anchor\" id=\"11\"></a>"
   ]
  },
  {
   "cell_type": "code",
   "execution_count": 36,
   "metadata": {},
   "outputs": [
    {
     "name": "stdout",
     "output_type": "stream",
     "text": [
      "this is 'signle quote'\n"
     ]
    }
   ],
   "source": [
    "myStringOne= \"this is 'signle quote'\"\n",
    "print(myStringOne)"
   ]
  },
  {
   "cell_type": "code",
   "execution_count": 37,
   "metadata": {},
   "outputs": [
    {
     "name": "stdout",
     "output_type": "stream",
     "text": [
      "This is Double Quotes\n"
     ]
    }
   ],
   "source": [
    "myStringTwo = \"This is Double Quotes\"\n",
    "print(myStringTwo)"
   ]
  },
  {
   "cell_type": "code",
   "execution_count": 38,
   "metadata": {},
   "outputs": [
    {
     "name": "stdout",
     "output_type": "stream",
     "text": [
      "This is Single Quote \"Test\"\n"
     ]
    }
   ],
   "source": [
    "myStringThree = 'This is Single Quote \"Test\"'\n",
    "print(myStringThree)"
   ]
  },
  {
   "cell_type": "code",
   "execution_count": 39,
   "metadata": {},
   "outputs": [
    {
     "name": "stdout",
     "output_type": "stream",
     "text": [
      "This is Double Quotes 'Test'\n"
     ]
    }
   ],
   "source": [
    "myStringFour = \"This is Double Quotes 'Test'\"\n",
    "print(myStringFour)"
   ]
  },
  {
   "cell_type": "code",
   "execution_count": 40,
   "metadata": {},
   "outputs": [
    {
     "name": "stdout",
     "output_type": "stream",
     "text": [
      "first\n",
      "second\n",
      "third\n",
      "\n"
     ]
    }
   ],
   "source": [
    "multi= \"\"\"first\n",
    "second\n",
    "third\n",
    "\"\"\"\n",
    "print(multi)"
   ]
  },
  {
   "cell_type": "code",
   "execution_count": 41,
   "metadata": {},
   "outputs": [
    {
     "name": "stdout",
     "output_type": "stream",
     "text": [
      "\n",
      "\"First\" second 'third'\n",
      "\n"
     ]
    }
   ],
   "source": [
    "test = '''\n",
    "\"First\" second 'third'\n",
    "'''\n",
    "print(test)\n"
   ]
  },
  {
   "attachments": {},
   "cell_type": "markdown",
   "metadata": {},
   "source": [
    "## 012 – Strings – Indexing and Slicing\n",
    "<a class=\"anchor\" id=\"12\"></a>"
   ]
  },
  {
   "cell_type": "markdown",
   "metadata": {},
   "source": [
    "[1] All Data in Python is Object  \n",
    "[2] Object Contain Elements  \n",
    "[3] Every Element Has Its Own Index  \n",
    "[4] Python Use Zero Based Indexing ( Index Start From Zero )  \n",
    "[5] Use Square Brackets To Access Element  \n",
    "[6] Enable Accessing Parts Of Strings, Tuples or Lists"
   ]
  },
  {
   "cell_type": "code",
   "execution_count": 42,
   "metadata": {},
   "outputs": [
    {
     "name": "stdout",
     "output_type": "stream",
     "text": [
      "i\n",
      "n\n",
      "t\n"
     ]
    }
   ],
   "source": [
    "#index access single item\n",
    "string= \"i love python\"\n",
    "print(string[0])\n",
    "print(string[-1])\n",
    "print(string[9])"
   ]
  },
  {
   "cell_type": "code",
   "execution_count": 43,
   "metadata": {},
   "outputs": [
    {
     "name": "stdout",
     "output_type": "stream",
     "text": [
      "yth\n",
      "i love pyt\n",
      "e pyt\n",
      "e\n",
      "i love python\n",
      "i love python\n",
      "i love python\n",
      "ilv yhn\n"
     ]
    }
   ],
   "source": [
    "#slicing access multiple sequence items\n",
    "#[start:end]\n",
    "#[start:end:steps]\n",
    "print(string[8:11])\n",
    "print(string[:10])\n",
    "print(string[5:10])\n",
    "print(string[5])\n",
    "print(string[:])\n",
    "print(string[0::1])\n",
    "print(string[::1])\n",
    "print(string[::2])"
   ]
  },
  {
   "attachments": {},
   "cell_type": "markdown",
   "metadata": {},
   "source": [
    "## 013 – Strings Methods Part 1\n",
    "<a class=\"anchor\" id=\"13\"></a>"
   ]
  },
  {
   "cell_type": "code",
   "execution_count": 44,
   "metadata": {},
   "outputs": [
    {
     "name": "stdout",
     "output_type": "stream",
     "text": [
      "18\n",
      "i love python\n",
      "  i love python\n",
      "i love python   \n"
     ]
    }
   ],
   "source": [
    "a = \"  i love python   \"\n",
    "print(len(a))\n",
    "print(a.strip())\n",
    "print(a.rstrip())\n",
    "print(a.lstrip())\n"
   ]
  },
  {
   "cell_type": "code",
   "execution_count": 45,
   "metadata": {},
   "outputs": [
    {
     "name": "stdout",
     "output_type": "stream",
     "text": [
      "hi\n"
     ]
    }
   ],
   "source": [
    "a = \"    hi   \"\n",
    "print(a.strip())"
   ]
  },
  {
   "cell_type": "code",
   "execution_count": 46,
   "metadata": {},
   "outputs": [
    {
     "name": "stdout",
     "output_type": "stream",
     "text": [
      "hola\n",
      "#####hola\n",
      "hola#####\n"
     ]
    }
   ],
   "source": [
    "a =\"#####hola#####\"\n",
    "print(a.strip(\"#\"))\n",
    "print(a.rstrip(\"#\"))\n",
    "print(a.lstrip(\"#\"))"
   ]
  },
  {
   "cell_type": "code",
   "execution_count": 47,
   "metadata": {},
   "outputs": [
    {
     "name": "stdout",
     "output_type": "stream",
     "text": [
      "I Love 2D Graphics And 3G Technology And Python\n",
      "I love 2d graphics and 3g technology and python\n"
     ]
    }
   ],
   "source": [
    "b =\"I Love 2d Graphics and 3g Technology and python\"\n",
    "print(b.title())\n",
    "print(b.capitalize())\n"
   ]
  },
  {
   "cell_type": "code",
   "execution_count": 48,
   "metadata": {},
   "outputs": [
    {
     "name": "stdout",
     "output_type": "stream",
     "text": [
      "001\n",
      "020\n",
      "003\n"
     ]
    }
   ],
   "source": [
    "c,d,e = \"1\",\"20\",\"3\"\n",
    "print(c.zfill(3))\n",
    "print(d.zfill(3))\n",
    "print(e.zfill(3))"
   ]
  },
  {
   "cell_type": "code",
   "execution_count": 49,
   "metadata": {},
   "outputs": [
    {
     "name": "stdout",
     "output_type": "stream",
     "text": [
      "ahmed\n",
      "AHMED\n"
     ]
    }
   ],
   "source": [
    "g = \"aHmed\"\n",
    "print(g.lower())\n",
    "print(g.upper())"
   ]
  },
  {
   "attachments": {},
   "cell_type": "markdown",
   "metadata": {},
   "source": [
    "## 014 – Strings Methods Part 2\n",
    "<a class=\"anchor\" id=\"14\"></a>"
   ]
  },
  {
   "cell_type": "code",
   "execution_count": 50,
   "metadata": {},
   "outputs": [
    {
     "name": "stdout",
     "output_type": "stream",
     "text": [
      "['I', 'love', 'python']\n"
     ]
    }
   ],
   "source": [
    "a = \"I love python\"\n",
    "print(a.split())"
   ]
  },
  {
   "cell_type": "code",
   "execution_count": 51,
   "metadata": {},
   "outputs": [
    {
     "name": "stdout",
     "output_type": "stream",
     "text": [
      "['I', 'love', 'python']\n"
     ]
    }
   ],
   "source": [
    "a = \"I-love-python\"\n",
    "print(a.split(\"-\"))"
   ]
  },
  {
   "cell_type": "code",
   "execution_count": 52,
   "metadata": {},
   "outputs": [
    {
     "name": "stdout",
     "output_type": "stream",
     "text": [
      "['I', 'love-python']\n"
     ]
    }
   ],
   "source": [
    "a = \"I-love-python\"\n",
    "print(a.split(\"-\",1))"
   ]
  },
  {
   "cell_type": "code",
   "execution_count": 53,
   "metadata": {},
   "outputs": [
    {
     "name": "stdout",
     "output_type": "stream",
     "text": [
      "['I-love', 'python']\n"
     ]
    }
   ],
   "source": [
    "d = \"I-love-python\"\n",
    "print(d.rsplit(\"-\",1))"
   ]
  },
  {
   "cell_type": "code",
   "execution_count": 54,
   "metadata": {},
   "outputs": [
    {
     "name": "stdout",
     "output_type": "stream",
     "text": [
      "     ahmed     \n",
      "#####ahmed#####\n"
     ]
    }
   ],
   "source": [
    "e = \"ahmed\"\n",
    "print(e.center(15))\n",
    "print(e.center(15,\"#\"))"
   ]
  },
  {
   "cell_type": "code",
   "execution_count": 55,
   "metadata": {},
   "outputs": [
    {
     "name": "stdout",
     "output_type": "stream",
     "text": [
      "2\n",
      "1\n"
     ]
    }
   ],
   "source": [
    "f = \"I and me and ahmed\"\n",
    "print(f.count(\"and\"))\n",
    "print(f.count(\"and\",0,10))# start and end"
   ]
  },
  {
   "cell_type": "code",
   "execution_count": 56,
   "metadata": {},
   "outputs": [
    {
     "name": "stdout",
     "output_type": "stream",
     "text": [
      "i LOVE pYTHON\n"
     ]
    }
   ],
   "source": [
    "g = \"I love Python\"\n",
    "print(g.swapcase())"
   ]
  },
  {
   "cell_type": "code",
   "execution_count": 57,
   "metadata": {},
   "outputs": [
    {
     "name": "stdout",
     "output_type": "stream",
     "text": [
      "False\n",
      "True\n",
      "True\n"
     ]
    }
   ],
   "source": [
    "print(g.startswith(\"i\"))\n",
    "print(g.startswith(\"I\"))\n",
    "print(g.startswith(\"l\",2,12))#start from second index"
   ]
  },
  {
   "cell_type": "code",
   "execution_count": 58,
   "metadata": {},
   "outputs": [
    {
     "name": "stdout",
     "output_type": "stream",
     "text": [
      "True\n",
      "True\n"
     ]
    }
   ],
   "source": [
    "print(g.endswith(\"n\"))\n",
    "print(g.endswith(\"e\",2,6))"
   ]
  },
  {
   "attachments": {},
   "cell_type": "markdown",
   "metadata": {},
   "source": [
    "## 015 – Strings Methods Part 3\n",
    "<a class=\"anchor\" id=\"15\"></a>"
   ]
  },
  {
   "cell_type": "code",
   "execution_count": 59,
   "metadata": {},
   "outputs": [
    {
     "name": "stdout",
     "output_type": "stream",
     "text": [
      "7\n",
      "7\n"
     ]
    }
   ],
   "source": [
    "a = \"I Love Python\"\n",
    "print(a.index(\"P\"))  # Index Number 7\n",
    "print(a.index(\"P\", 0, 10))  # Index Number 7\n",
    "#print(a.index(\"P\", 0, 5))  # Through Error"
   ]
  },
  {
   "cell_type": "code",
   "execution_count": 60,
   "metadata": {},
   "outputs": [
    {
     "name": "stdout",
     "output_type": "stream",
     "text": [
      "7\n",
      "7\n",
      "-1\n"
     ]
    }
   ],
   "source": [
    "b = \"I Love Python\"\n",
    "print(b.find(\"P\"))  # Index Number 7\n",
    "print(b.find(\"P\", 0, 10))  # Index Number 7\n",
    "print(b.find(\"P\", 0, 5)) #-1"
   ]
  },
  {
   "cell_type": "code",
   "execution_count": 61,
   "metadata": {},
   "outputs": [
    {
     "name": "stdout",
     "output_type": "stream",
     "text": [
      "     ahmed\n",
      "#####ahmed\n"
     ]
    }
   ],
   "source": [
    "c = \"ahmed\"\n",
    "print(c.rjust(10))\n",
    "print(c.rjust(10, \"#\"))"
   ]
  },
  {
   "cell_type": "code",
   "execution_count": 62,
   "metadata": {},
   "outputs": [
    {
     "name": "stdout",
     "output_type": "stream",
     "text": [
      "ahmed     \n",
      "ahmed#####\n"
     ]
    }
   ],
   "source": [
    "d = \"ahmed\"\n",
    "print(d.ljust(10))\n",
    "print(d.ljust(10, \"#\"))"
   ]
  },
  {
   "cell_type": "code",
   "execution_count": 63,
   "metadata": {},
   "outputs": [
    {
     "name": "stdout",
     "output_type": "stream",
     "text": [
      "['First Line', 'Second Line', 'Third Line']\n"
     ]
    }
   ],
   "source": [
    "e = \"\"\"First Line\n",
    "Second Line\n",
    "Third Line\"\"\"\n",
    "\n",
    "print(e.splitlines())"
   ]
  },
  {
   "cell_type": "code",
   "execution_count": 64,
   "metadata": {},
   "outputs": [
    {
     "name": "stdout",
     "output_type": "stream",
     "text": [
      "['First Line', 'Second Line', 'Third Line']\n"
     ]
    }
   ],
   "source": [
    "f = \"First Line\\nSecond Line\\nThird Line\"\n",
    "\n",
    "print(f.splitlines())"
   ]
  },
  {
   "cell_type": "code",
   "execution_count": 65,
   "metadata": {},
   "outputs": [
    {
     "name": "stdout",
     "output_type": "stream",
     "text": [
      "Hello     World     I    Love Python\n"
     ]
    }
   ],
   "source": [
    "g = \"Hello\\tWorld\\tI\\tLove\\tPython\"\n",
    "print(g.expandtabs(5))"
   ]
  },
  {
   "cell_type": "code",
   "execution_count": 66,
   "metadata": {},
   "outputs": [
    {
     "name": "stdout",
     "output_type": "stream",
     "text": [
      "True\n",
      "False\n"
     ]
    }
   ],
   "source": [
    "one = \"I Love Python And 3G\"\n",
    "two = \"I Love Python And 3g\"\n",
    "print(one.istitle())\n",
    "print(two.istitle())"
   ]
  },
  {
   "cell_type": "code",
   "execution_count": 67,
   "metadata": {},
   "outputs": [
    {
     "name": "stdout",
     "output_type": "stream",
     "text": [
      "True\n",
      "False\n"
     ]
    }
   ],
   "source": [
    "three = \" \"\n",
    "four = \"\"\n",
    "print(three.isspace())\n",
    "print(four.isspace())"
   ]
  },
  {
   "cell_type": "code",
   "execution_count": 68,
   "metadata": {},
   "outputs": [
    {
     "name": "stdout",
     "output_type": "stream",
     "text": [
      "True\n",
      "False\n"
     ]
    }
   ],
   "source": [
    "five = 'i love python'\n",
    "six = 'I Love Python'\n",
    "print(five.islower())\n",
    "print(six.islower())"
   ]
  },
  {
   "cell_type": "code",
   "execution_count": 69,
   "metadata": {},
   "outputs": [
    {
     "name": "stdout",
     "output_type": "stream",
     "text": [
      "True\n",
      "True\n",
      "False\n"
     ]
    }
   ],
   "source": [
    "# to check if i can use a name as a variable\n",
    "seven = \"osama_elzero\"\n",
    "eight = \"OsamaElzero100\"\n",
    "nine = \"Osama--Elzero100\"\n",
    "\n",
    "print(seven.isidentifier())\n",
    "print(eight.isidentifier())\n",
    "print(nine.isidentifier())"
   ]
  },
  {
   "cell_type": "code",
   "execution_count": 70,
   "metadata": {},
   "outputs": [
    {
     "name": "stdout",
     "output_type": "stream",
     "text": [
      "True\n",
      "False\n"
     ]
    }
   ],
   "source": [
    "x = \"AaaaaBbbbbb\"\n",
    "y = \"AaaaaBbbbbb111\"\n",
    "print(x.isalpha())\n",
    "print(y.isalpha())"
   ]
  },
  {
   "cell_type": "code",
   "execution_count": 71,
   "metadata": {},
   "outputs": [
    {
     "name": "stdout",
     "output_type": "stream",
     "text": [
      "True\n",
      "True\n"
     ]
    }
   ],
   "source": [
    "u = \"AaaaaBbbbbb\"\n",
    "z = \"AaaaaBbbbbb111\"\n",
    "print(u.isalnum())\n",
    "print(z.isalnum())"
   ]
  },
  {
   "attachments": {},
   "cell_type": "markdown",
   "metadata": {},
   "source": [
    "## 016 – Strings Methods Part 4\n",
    "<a class=\"anchor\" id=\"16\"></a>"
   ]
  },
  {
   "cell_type": "code",
   "execution_count": 72,
   "metadata": {},
   "outputs": [
    {
     "name": "stdout",
     "output_type": "stream",
     "text": [
      "Hello 1 Two Three 1 1\n",
      "Hello 1 Two Three One One\n",
      "Hello 1 Two Three 1 One\n"
     ]
    }
   ],
   "source": [
    "# replace(Old Value, New Value, Count)\n",
    "\n",
    "a = \"Hello One Two Three One One\"\n",
    "print(a.replace(\"One\", \"1\"))\n",
    "print(a.replace(\"One\", \"1\", 1))\n",
    "print(a.replace(\"One\", \"1\", 2))"
   ]
  },
  {
   "cell_type": "code",
   "execution_count": 73,
   "metadata": {},
   "outputs": [
    {
     "name": "stdout",
     "output_type": "stream",
     "text": [
      "Osama-Mohamed-Elsayed\n",
      "Osama Mohamed Elsayed\n",
      "Osama, Mohamed, Elsayed\n",
      "<class 'str'>\n"
     ]
    }
   ],
   "source": [
    "myList = [\"Osama\", \"Mohamed\", \"Elsayed\"]\n",
    "print(\"-\".join(myList))\n",
    "print(\" \".join(myList))\n",
    "print(\", \".join(myList))\n",
    "print(type(\", \".join(myList)))"
   ]
  },
  {
   "attachments": {},
   "cell_type": "markdown",
   "metadata": {},
   "source": [
    "## 017 – Strings Formatting Old Way\n",
    "<a class=\"anchor\" id=\"17\"></a>"
   ]
  },
  {
   "cell_type": "code",
   "execution_count": 74,
   "metadata": {},
   "outputs": [
    {
     "name": "stdout",
     "output_type": "stream",
     "text": [
      "My Name is: Osama\n"
     ]
    }
   ],
   "source": [
    "name = \"Osama\"\n",
    "age = 36\n",
    "rank = 10\n",
    "\n",
    "print(\"My Name is: \" + name)"
   ]
  },
  {
   "attachments": {},
   "cell_type": "markdown",
   "metadata": {},
   "source": [
    "```\n",
    "print(\"My Name is: \" + name + \" and My Age is: \" + age)  \n",
    "\n",
    "```\n",
    "type error, cant concatenate string with int"
   ]
  },
  {
   "cell_type": "code",
   "execution_count": 75,
   "metadata": {},
   "outputs": [
    {
     "name": "stdout",
     "output_type": "stream",
     "text": [
      "My Name is: Osama\n",
      "My Name is: Osama\n",
      "My Name is: Osama and My Age is: 36\n",
      "My Name is: Osama and My Age is: 36 and My Rank is: 10.000000\n"
     ]
    }
   ],
   "source": [
    "print(\"My Name is: %s\" % \"Osama\")\n",
    "print(\"My Name is: %s\" % name)\n",
    "print(\"My Name is: %s and My Age is: %d\" % (name, age))\n",
    "print(\"My Name is: %s and My Age is: %d and My Rank is: %f\" % (name, age, rank))\n"
   ]
  },
  {
   "cell_type": "markdown",
   "metadata": {},
   "source": [
    "%s => String  \n",
    "%d => Number  \n",
    "%f => Float"
   ]
  },
  {
   "cell_type": "code",
   "execution_count": 76,
   "metadata": {},
   "outputs": [
    {
     "name": "stdout",
     "output_type": "stream",
     "text": [
      "My Name is Osama Iam Python Developer With 10 Years Exp\n"
     ]
    }
   ],
   "source": [
    "n = \"Osama\"\n",
    "l = \"Python\"\n",
    "y = 10\n",
    "\n",
    "print(\"My Name is %s Iam %s Developer With %d Years Exp\" % (n, l, y))\n"
   ]
  },
  {
   "cell_type": "code",
   "execution_count": 77,
   "metadata": {},
   "outputs": [
    {
     "name": "stdout",
     "output_type": "stream",
     "text": [
      "My Number is: 10\n",
      "My Number is: 10.000000\n",
      "My Number is: 10.00\n"
     ]
    }
   ],
   "source": [
    "#control flow point number\n",
    "myNumber = 10\n",
    "print(\"My Number is: %d\" % myNumber)\n",
    "print(\"My Number is: %f\" % myNumber)\n",
    "print(\"My Number is: %.2f\" % myNumber)"
   ]
  },
  {
   "cell_type": "code",
   "execution_count": 78,
   "metadata": {},
   "outputs": [
    {
     "name": "stdout",
     "output_type": "stream",
     "text": [
      "Message is Hello Peoples of Elzero Web School I Love You All\n",
      "Message is Hello\n"
     ]
    }
   ],
   "source": [
    "#Truncate string\n",
    "myLongString = \"Hello Peoples of Elzero Web School I Love You All\"\n",
    "print(\"Message is %s\" % myLongString)\n",
    "print(\"Message is %.5s\" % myLongString)"
   ]
  },
  {
   "attachments": {},
   "cell_type": "markdown",
   "metadata": {},
   "source": [
    "## 018 – Strings Formatting New Way\n",
    "<a class=\"anchor\" id=\"18\"></a>"
   ]
  },
  {
   "cell_type": "code",
   "execution_count": 79,
   "metadata": {},
   "outputs": [
    {
     "name": "stdout",
     "output_type": "stream",
     "text": [
      "My Name is: Osama\n"
     ]
    }
   ],
   "source": [
    "name = \"Osama\"\n",
    "age = 36\n",
    "rank = 10\n",
    "\n",
    "print(\"My Name is: \" + name)"
   ]
  },
  {
   "cell_type": "code",
   "execution_count": 80,
   "metadata": {},
   "outputs": [
    {
     "name": "stdout",
     "output_type": "stream",
     "text": [
      "My Name is: Osama\n",
      "My Name is: Osama\n",
      "My Name is: Osama My Age: 36\n",
      "My Name is: Osama Age: 36 & Rank is: 10.000000\n"
     ]
    }
   ],
   "source": [
    "print(\"My Name is: {}\".format(\"Osama\"))\n",
    "print(\"My Name is: {}\".format(name))\n",
    "print(\"My Name is: {} My Age: {}\".format(name, age))\n",
    "print(\"My Name is: {:s} Age: {:d} & Rank is: {:f}\".format(name, age, rank))"
   ]
  },
  {
   "cell_type": "markdown",
   "metadata": {},
   "source": [
    "{:s} => String  \n",
    "{:d} => Number  \n",
    "{:f} => Float"
   ]
  },
  {
   "cell_type": "code",
   "execution_count": 81,
   "metadata": {},
   "outputs": [
    {
     "name": "stdout",
     "output_type": "stream",
     "text": [
      "My Name is Osama Iam Python Developer With 10 Years Exp\n"
     ]
    }
   ],
   "source": [
    "n = \"Osama\"\n",
    "l = \"Python\"\n",
    "y = 10\n",
    "\n",
    "print(\"My Name is {} Iam {} Developer With {:d} Years Exp\".format(n, l, y))"
   ]
  },
  {
   "cell_type": "code",
   "execution_count": 82,
   "metadata": {},
   "outputs": [
    {
     "name": "stdout",
     "output_type": "stream",
     "text": [
      "My Number is: 10\n",
      "My Number is: 10.000000\n",
      "My Number is: 10.00\n"
     ]
    }
   ],
   "source": [
    "# Control Floating Point Number\n",
    "myNumber = 10\n",
    "print(\"My Number is: {:d}\".format(myNumber))\n",
    "print(\"My Number is: {:f}\".format(myNumber))\n",
    "print(\"My Number is: {:.2f}\".format(myNumber))"
   ]
  },
  {
   "cell_type": "code",
   "execution_count": 83,
   "metadata": {},
   "outputs": [
    {
     "name": "stdout",
     "output_type": "stream",
     "text": [
      "Message is Hello Peoples of Elzero Web School I Love You All\n",
      "Message is Hello\n",
      "Message is Hello Peoples\n"
     ]
    }
   ],
   "source": [
    "# Truncate String\n",
    "myLongString = \"Hello Peoples of Elzero Web School I Love You All\"\n",
    "print(\"Message is {}\".format(myLongString))\n",
    "print(\"Message is {:.5s}\".format(myLongString))\n",
    "print(\"Message is {:.13s}\".format(myLongString))"
   ]
  },
  {
   "cell_type": "code",
   "execution_count": 84,
   "metadata": {},
   "outputs": [
    {
     "name": "stdout",
     "output_type": "stream",
     "text": [
      "My Money in Bank Is: 500162350198\n",
      "My Money in Bank Is: 500_162_350_198\n",
      "My Money in Bank Is: 500,162,350,198\n"
     ]
    }
   ],
   "source": [
    "#format money\n",
    "myMoney = 500162350198\n",
    "print(\"My Money in Bank Is: {:d}\".format(myMoney))\n",
    "print(\"My Money in Bank Is: {:_d}\".format(myMoney))\n",
    "print(\"My Money in Bank Is: {:,d}\".format(myMoney))"
   ]
  },
  {
   "cell_type": "markdown",
   "metadata": {},
   "source": [
    "`{:&d}` will produce an error"
   ]
  },
  {
   "cell_type": "code",
   "execution_count": 85,
   "metadata": {},
   "outputs": [
    {
     "name": "stdout",
     "output_type": "stream",
     "text": [
      "Hello One Two Three\n",
      "Hello Two Three One\n",
      "Hello Three One Two\n"
     ]
    }
   ],
   "source": [
    "# ReArrange Items\n",
    "a, b, c = \"One\", \"Two\", \"Three\"\n",
    "print(\"Hello {} {} {}\".format(a, b, c))\n",
    "print(\"Hello {1} {2} {0}\".format(a, b, c))\n",
    "print(\"Hello {2} {0} {1}\".format(a, b, c))"
   ]
  },
  {
   "cell_type": "code",
   "execution_count": 86,
   "metadata": {},
   "outputs": [
    {
     "name": "stdout",
     "output_type": "stream",
     "text": [
      "Hello 10 20 30\n",
      "Hello 20 30 10\n",
      "Hello 30.000000 10.000000 20.000000\n",
      "Hello 30.00 10.0000 20.00000\n"
     ]
    }
   ],
   "source": [
    "x, y, z = 10, 20, 30\n",
    "print(\"Hello {} {} {}\".format(x, y, z))\n",
    "print(\"Hello {1:d} {2:d} {0:d}\".format(x, y, z))\n",
    "print(\"Hello {2:f} {0:f} {1:f}\".format(x, y, z))\n",
    "print(\"Hello {2:.2f} {0:.4f} {1:.5f}\".format(x, y, z))"
   ]
  },
  {
   "cell_type": "code",
   "execution_count": 87,
   "metadata": {},
   "outputs": [
    {
     "name": "stdout",
     "output_type": "stream",
     "text": [
      "My Name is : {myName} and My Age is : {myAge}\n",
      "My Name is : Osama and My Age is : 36\n"
     ]
    }
   ],
   "source": [
    "# Format in Version 3.6+\n",
    "myName = \"Osama\"\n",
    "myAge = 36\n",
    "print(\"My Name is : {myName} and My Age is : {myAge}\")\n",
    "print(f\"My Name is : {myName} and My Age is : {myAge}\")"
   ]
  },
  {
   "attachments": {},
   "cell_type": "markdown",
   "metadata": {},
   "source": [
    "# Week 3\n",
    "<a class=\"anchor\" id=\"week3\"></a>"
   ]
  },
  {
   "attachments": {},
   "cell_type": "markdown",
   "metadata": {},
   "source": [
    "## 019 – Numbers\n",
    "<a class=\"anchor\" id=\"19\"></a>"
   ]
  },
  {
   "cell_type": "code",
   "execution_count": 88,
   "metadata": {},
   "outputs": [
    {
     "name": "stdout",
     "output_type": "stream",
     "text": [
      "<class 'int'>\n",
      "<class 'int'>\n",
      "<class 'int'>\n",
      "<class 'int'>\n",
      "<class 'int'>\n"
     ]
    }
   ],
   "source": [
    "# Integer\n",
    "print(type(1))\n",
    "print(type(100))\n",
    "print(type(10))\n",
    "print(type(-10))\n",
    "print(type(-110))"
   ]
  },
  {
   "cell_type": "code",
   "execution_count": 89,
   "metadata": {},
   "outputs": [
    {
     "name": "stdout",
     "output_type": "stream",
     "text": [
      "<class 'float'>\n",
      "<class 'float'>\n",
      "<class 'float'>\n",
      "<class 'float'>\n",
      "<class 'float'>\n"
     ]
    }
   ],
   "source": [
    "# Float\n",
    "print(type(1.500))\n",
    "print(type(100.99))\n",
    "print(type(-10.99))\n",
    "print(type(0.99))\n",
    "print(type(-0.99))"
   ]
  },
  {
   "cell_type": "code",
   "execution_count": 90,
   "metadata": {},
   "outputs": [
    {
     "name": "stdout",
     "output_type": "stream",
     "text": [
      "<class 'complex'>\n",
      "Real Part Is: 5.0\n",
      "Imaginary Part Is: 6.0\n"
     ]
    }
   ],
   "source": [
    "# Complex\n",
    "myComplexNumber = 5+6j\n",
    "print(type(myComplexNumber))\n",
    "print(\"Real Part Is: {}\".format(myComplexNumber.real))\n",
    "print(\"Imaginary Part Is: {}\".format(myComplexNumber.imag))"
   ]
  },
  {
   "attachments": {},
   "cell_type": "markdown",
   "metadata": {},
   "source": [
    "[1] You Can Convert From Int To Float or Complex  \n",
    "[2] You Can Convert From Float To Int or Complex  \n",
    "[3] You Cannot Convert Complex To Any Type"
   ]
  },
  {
   "cell_type": "code",
   "execution_count": 91,
   "metadata": {},
   "outputs": [
    {
     "name": "stdout",
     "output_type": "stream",
     "text": [
      "100\n",
      "100.0\n",
      "(100+0j)\n"
     ]
    }
   ],
   "source": [
    "print(100)\n",
    "print(float(100))\n",
    "print(complex(100))"
   ]
  },
  {
   "cell_type": "code",
   "execution_count": 92,
   "metadata": {},
   "outputs": [
    {
     "name": "stdout",
     "output_type": "stream",
     "text": [
      "10.5\n",
      "10\n",
      "(10.5+0j)\n"
     ]
    }
   ],
   "source": [
    "print(10.50)\n",
    "print(int(10.50))\n",
    "print(complex(10.50))"
   ]
  },
  {
   "cell_type": "code",
   "execution_count": 93,
   "metadata": {},
   "outputs": [
    {
     "name": "stdout",
     "output_type": "stream",
     "text": [
      "(10+9j)\n"
     ]
    }
   ],
   "source": [
    "print(10+9j)\n",
    "#print(int(10+9j)) error"
   ]
  },
  {
   "attachments": {},
   "cell_type": "markdown",
   "metadata": {},
   "source": [
    "## 020 – Arithmetic Operators\n",
    "<a class=\"anchor\" id=\"20\"></a>"
   ]
  },
  {
   "cell_type": "markdown",
   "metadata": {},
   "source": [
    "[+] Addition  \n",
    "[-] Subtraction  \n",
    "[*] Multiplication  \n",
    "[/] Division  \n",
    "[%] Modulus  \n",
    "[**] Exponent  \n",
    "[//] Floor Division"
   ]
  },
  {
   "cell_type": "code",
   "execution_count": 94,
   "metadata": {},
   "outputs": [
    {
     "name": "stdout",
     "output_type": "stream",
     "text": [
      "40\n",
      "10\n",
      "3.66\n",
      "2.4\n"
     ]
    }
   ],
   "source": [
    "# Addition\n",
    "print(10 + 30)\n",
    "print(-10 + 20)\n",
    "print(1 + 2.66)\n",
    "print(1.2 + 1.2)"
   ]
  },
  {
   "cell_type": "code",
   "execution_count": 95,
   "metadata": {},
   "outputs": [
    {
     "name": "stdout",
     "output_type": "stream",
     "text": [
      "30\n",
      "-50\n",
      "-10\n",
      "2.22\n"
     ]
    }
   ],
   "source": [
    "# Subtraction\n",
    "print(60 - 30)\n",
    "print(-30 - 20)\n",
    "print(-30 - -20)\n",
    "print(5.66 - 3.44)"
   ]
  },
  {
   "cell_type": "code",
   "execution_count": 96,
   "metadata": {},
   "outputs": [
    {
     "name": "stdout",
     "output_type": "stream",
     "text": [
      "30\n",
      "1005\n",
      "1500\n"
     ]
    }
   ],
   "source": [
    "# Multiplication\n",
    "print(10 * 3)\n",
    "print(5 + 10 * 100)\n",
    "print((5 + 10) * 100)"
   ]
  },
  {
   "cell_type": "code",
   "execution_count": 97,
   "metadata": {},
   "outputs": [
    {
     "name": "stdout",
     "output_type": "stream",
     "text": [
      "5.0\n",
      "5\n"
     ]
    }
   ],
   "source": [
    "# Division\n",
    "print(100 / 20)\n",
    "print(int(100 / 20))"
   ]
  },
  {
   "cell_type": "code",
   "execution_count": 98,
   "metadata": {},
   "outputs": [
    {
     "name": "stdout",
     "output_type": "stream",
     "text": [
      "0\n",
      "1\n",
      "0\n",
      "2\n"
     ]
    }
   ],
   "source": [
    "# Modulus\n",
    "print(8 % 2)\n",
    "print(9 % 2)\n",
    "print(20 % 5)\n",
    "print(22 % 5)"
   ]
  },
  {
   "cell_type": "code",
   "execution_count": 99,
   "metadata": {},
   "outputs": [
    {
     "name": "stdout",
     "output_type": "stream",
     "text": [
      "32\n",
      "32\n",
      "625\n",
      "625\n"
     ]
    }
   ],
   "source": [
    "# Exponent\n",
    "print(2 ** 5)\n",
    "print(2 * 2 * 2 * 2 * 2)\n",
    "print(5 ** 4)\n",
    "print(5 * 5 * 5 * 5)"
   ]
  },
  {
   "cell_type": "code",
   "execution_count": 100,
   "metadata": {},
   "outputs": [
    {
     "name": "stdout",
     "output_type": "stream",
     "text": [
      "5\n",
      "5\n",
      "6\n",
      "7\n",
      "7\n"
     ]
    }
   ],
   "source": [
    "# Floor Division\n",
    "print(100 // 20)\n",
    "print(119 // 20)\n",
    "print(120 // 20)\n",
    "print(140 // 20)\n",
    "print(142 // 20)"
   ]
  },
  {
   "attachments": {},
   "cell_type": "markdown",
   "metadata": {},
   "source": [
    "## 021 – Lists\n",
    "<a class=\"anchor\" id=\"21\"></a>"
   ]
  },
  {
   "cell_type": "markdown",
   "metadata": {},
   "source": [
    "[1] List Items Are Enclosed in Square Brackets  \n",
    "[2] List Are Ordered, To Use Index To Access Item  \n",
    "[3] List Are Mutable => Add, Delete, Edit  \n",
    "[4] List Items Is Not Unique  \n",
    "[5] List Can Have Different Data Types  "
   ]
  },
  {
   "cell_type": "code",
   "execution_count": 101,
   "metadata": {},
   "outputs": [
    {
     "name": "stdout",
     "output_type": "stream",
     "text": [
      "['One', 'Two', 'One', 1, 100.5, True]\n",
      "Two\n",
      "True\n",
      "1\n"
     ]
    }
   ],
   "source": [
    "myAwesomeList = [\"One\", \"Two\", \"One\", 1, 100.5, True]\n",
    "\n",
    "print(myAwesomeList)\n",
    "print(myAwesomeList[1])\n",
    "print(myAwesomeList[-1])\n",
    "print(myAwesomeList[-3])"
   ]
  },
  {
   "cell_type": "code",
   "execution_count": 102,
   "metadata": {},
   "outputs": [
    {
     "name": "stdout",
     "output_type": "stream",
     "text": [
      "['Two', 'One', 1]\n",
      "['One', 'Two', 'One', 1]\n",
      "['Two', 'One', 1, 100.5, True]\n"
     ]
    }
   ],
   "source": [
    "print(myAwesomeList[1:4])\n",
    "print(myAwesomeList[:4])\n",
    "print(myAwesomeList[1:])"
   ]
  },
  {
   "cell_type": "code",
   "execution_count": 103,
   "metadata": {},
   "outputs": [
    {
     "name": "stdout",
     "output_type": "stream",
     "text": [
      "['One', 'Two', 'One', 1, 100.5, True]\n",
      "['One', 'One', 100.5]\n"
     ]
    }
   ],
   "source": [
    "print(myAwesomeList[::1])\n",
    "print(myAwesomeList[::2])"
   ]
  },
  {
   "cell_type": "code",
   "execution_count": 104,
   "metadata": {},
   "outputs": [
    {
     "name": "stdout",
     "output_type": "stream",
     "text": [
      "['One', 'Two', 'One', 1, 100.5, True]\n",
      "['One', 2, 'One', 1, 100.5, False]\n"
     ]
    }
   ],
   "source": [
    "print(myAwesomeList)\n",
    "myAwesomeList[1] = 2\n",
    "myAwesomeList[-1] = False\n",
    "print(myAwesomeList)"
   ]
  },
  {
   "cell_type": "code",
   "execution_count": 105,
   "metadata": {},
   "outputs": [
    {
     "name": "stdout",
     "output_type": "stream",
     "text": [
      "[1, 100.5, False]\n"
     ]
    }
   ],
   "source": [
    "myAwesomeList[0:3]=[]\n",
    "print(myAwesomeList)"
   ]
  },
  {
   "cell_type": "code",
   "execution_count": 106,
   "metadata": {},
   "outputs": [
    {
     "name": "stdout",
     "output_type": "stream",
     "text": [
      "['A', 'B', False]\n"
     ]
    }
   ],
   "source": [
    "myAwesomeList[0:2] = [\"A\",\"B\"]\n",
    "print(myAwesomeList)"
   ]
  },
  {
   "attachments": {},
   "cell_type": "markdown",
   "metadata": {},
   "source": [
    "## 022 – Lists Methods Part 1\n",
    "<a class=\"anchor\" id=\"22\"></a>"
   ]
  },
  {
   "cell_type": "code",
   "execution_count": 107,
   "metadata": {},
   "outputs": [
    {
     "name": "stdout",
     "output_type": "stream",
     "text": [
      "['Osama', 'Ahmed', 'Sayed']\n",
      "['Haytham', 'Samah', 'Ali']\n"
     ]
    }
   ],
   "source": [
    "myFriends = [\"Osama\", \"Ahmed\", \"Sayed\"]\n",
    "myOldFriends = [\"Haytham\", \"Samah\", \"Ali\"]\n",
    "print(myFriends)\n",
    "print(myOldFriends)\n"
   ]
  },
  {
   "cell_type": "code",
   "execution_count": 108,
   "metadata": {},
   "outputs": [
    {
     "name": "stdout",
     "output_type": "stream",
     "text": [
      "['Osama', 'Ahmed', 'Sayed', 'Alaa', 100, 150.2, True]\n"
     ]
    }
   ],
   "source": [
    "myFriends.append(\"Alaa\")\n",
    "myFriends.append(100)\n",
    "myFriends.append(150.200)\n",
    "myFriends.append(True)\n",
    "print(myFriends)"
   ]
  },
  {
   "cell_type": "code",
   "execution_count": 109,
   "metadata": {},
   "outputs": [
    {
     "name": "stdout",
     "output_type": "stream",
     "text": [
      "['Osama', 'Ahmed', 'Sayed', 'Alaa', 100, 150.2, True, ['Haytham', 'Samah', 'Ali']]\n"
     ]
    }
   ],
   "source": [
    "myFriends.append(myOldFriends)\n",
    "print(myFriends)"
   ]
  },
  {
   "cell_type": "code",
   "execution_count": 110,
   "metadata": {},
   "outputs": [
    {
     "name": "stdout",
     "output_type": "stream",
     "text": [
      "Sayed\n",
      "True\n",
      "['Haytham', 'Samah', 'Ali']\n"
     ]
    }
   ],
   "source": [
    "print(myFriends[2])\n",
    "print(myFriends[6])\n",
    "print(myFriends[7])"
   ]
  },
  {
   "cell_type": "code",
   "execution_count": 111,
   "metadata": {},
   "outputs": [
    {
     "name": "stdout",
     "output_type": "stream",
     "text": [
      "Ali\n"
     ]
    }
   ],
   "source": [
    "print(myFriends[7][2])"
   ]
  },
  {
   "cell_type": "code",
   "execution_count": 112,
   "metadata": {},
   "outputs": [
    {
     "name": "stdout",
     "output_type": "stream",
     "text": [
      "[1, 2, 3, 4]\n"
     ]
    }
   ],
   "source": [
    "a = [1, 2, 3, 4]\n",
    "b = [\"A\", \"B\", \"C\"]\n",
    "print(a)"
   ]
  },
  {
   "cell_type": "code",
   "execution_count": 113,
   "metadata": {},
   "outputs": [
    {
     "name": "stdout",
     "output_type": "stream",
     "text": [
      "[1, 2, 3, 4, 'A', 'B', 'C']\n"
     ]
    }
   ],
   "source": [
    "a.extend(b)\n",
    "print(a)"
   ]
  },
  {
   "cell_type": "code",
   "execution_count": 114,
   "metadata": {},
   "outputs": [
    {
     "name": "stdout",
     "output_type": "stream",
     "text": [
      "[1, 2, 3, 4, 5, True, 'Osama', 'Osama']\n"
     ]
    }
   ],
   "source": [
    "x = [1, 2, 3, 4, 5, \"Osama\", True, \"Osama\", \"Osama\"]\n",
    "x.remove(\"Osama\")\n",
    "print(x)"
   ]
  },
  {
   "cell_type": "code",
   "execution_count": 115,
   "metadata": {},
   "outputs": [
    {
     "name": "stdout",
     "output_type": "stream",
     "text": [
      "[-10, 1, 2, 17, 29, 100, 120]\n"
     ]
    }
   ],
   "source": [
    "y = [1, 2, 100, 120, -10, 17, 29]\n",
    "y.sort()\n",
    "print(y)"
   ]
  },
  {
   "cell_type": "code",
   "execution_count": 116,
   "metadata": {},
   "outputs": [
    {
     "name": "stdout",
     "output_type": "stream",
     "text": [
      "[120, 100, 29, 17, 2, 1, -10]\n"
     ]
    }
   ],
   "source": [
    "y.sort(reverse=True)\n",
    "print(y)"
   ]
  },
  {
   "cell_type": "code",
   "execution_count": 117,
   "metadata": {},
   "outputs": [
    {
     "name": "stdout",
     "output_type": "stream",
     "text": [
      "['A', 'C', 'Z']\n"
     ]
    }
   ],
   "source": [
    "m = [\"A\", \"Z\", \"C\"]\n",
    "m.sort()\n",
    "print(m)\n"
   ]
  },
  {
   "attachments": {},
   "cell_type": "markdown",
   "metadata": {},
   "source": [
    "Sort can't sort a list that contains both of strings and numbers."
   ]
  },
  {
   "cell_type": "code",
   "execution_count": 118,
   "metadata": {},
   "outputs": [
    {
     "name": "stdout",
     "output_type": "stream",
     "text": [
      "[100, 'Osama', 100, 80, 9, 1, 10]\n"
     ]
    }
   ],
   "source": [
    "z = [10, 1, 9, 80, 100, \"Osama\", 100]\n",
    "z.reverse()\n",
    "print(z)"
   ]
  },
  {
   "attachments": {},
   "cell_type": "markdown",
   "metadata": {},
   "source": [
    "## 023 – Lists Methods Part 2\n",
    "<a class=\"anchor\" id=\"23\"></a>"
   ]
  },
  {
   "cell_type": "code",
   "execution_count": 119,
   "metadata": {},
   "outputs": [
    {
     "name": "stdout",
     "output_type": "stream",
     "text": [
      "[]\n"
     ]
    }
   ],
   "source": [
    "a = [1, 2, 3, 4]\n",
    "a.clear()\n",
    "print(a)"
   ]
  },
  {
   "cell_type": "code",
   "execution_count": 120,
   "metadata": {},
   "outputs": [
    {
     "name": "stdout",
     "output_type": "stream",
     "text": [
      "[1, 2, 3, 4]\n",
      "[1, 2, 3, 4]\n"
     ]
    }
   ],
   "source": [
    "b = [1, 2, 3, 4]\n",
    "c = b.copy()\n",
    "\n",
    "print(b)\n",
    "print(c)"
   ]
  },
  {
   "cell_type": "code",
   "execution_count": 121,
   "metadata": {},
   "outputs": [
    {
     "name": "stdout",
     "output_type": "stream",
     "text": [
      "[1, 2, 3, 4, 5]\n",
      "[1, 2, 3, 4]\n"
     ]
    }
   ],
   "source": [
    "b.append(5)\n",
    "print(b)\n",
    "print(c)"
   ]
  },
  {
   "cell_type": "code",
   "execution_count": 122,
   "metadata": {},
   "outputs": [
    {
     "name": "stdout",
     "output_type": "stream",
     "text": [
      "3\n"
     ]
    }
   ],
   "source": [
    "d = [1, 2, 3, 4, 3, 9, 10, 1, 2, 1]\n",
    "print(d.count(1))"
   ]
  },
  {
   "cell_type": "code",
   "execution_count": 123,
   "metadata": {},
   "outputs": [
    {
     "name": "stdout",
     "output_type": "stream",
     "text": [
      "3\n"
     ]
    }
   ],
   "source": [
    "e = [\"Osama\", \"Ahmed\", \"Sayed\", \"Ramy\", \"Ahmed\", \"Ramy\"]\n",
    "print(e.index(\"Ramy\"))"
   ]
  },
  {
   "cell_type": "code",
   "execution_count": 124,
   "metadata": {},
   "outputs": [
    {
     "name": "stdout",
     "output_type": "stream",
     "text": [
      "[1, 2, 3, 4, 5, 'A', 'B']\n",
      "['Test', 1, 2, 3, 4, 5, 'A', 'Test', 'B']\n"
     ]
    }
   ],
   "source": [
    "f = [1, 2, 3, 4, 5, \"A\", \"B\"]\n",
    "print(f)\n",
    "f.insert(0, \"Test\")\n",
    "f.insert(-1, \"Test\")\n",
    "print(f)\n"
   ]
  },
  {
   "cell_type": "code",
   "execution_count": 125,
   "metadata": {},
   "outputs": [
    {
     "name": "stdout",
     "output_type": "stream",
     "text": [
      "5\n"
     ]
    }
   ],
   "source": [
    "g = [1, 2, 3, 4, 5, \"A\", \"B\"]\n",
    "print(g.pop(-3))"
   ]
  },
  {
   "attachments": {},
   "cell_type": "markdown",
   "metadata": {},
   "source": [
    "## 024 – Tuples Methods Part 1\n",
    "<a class=\"anchor\" id=\"24\"></a>"
   ]
  },
  {
   "cell_type": "markdown",
   "metadata": {},
   "source": [
    "[1] Tuple Items Are Enclosed in Parentheses  \n",
    "[2] You Can Remove The Parentheses If You Want  \n",
    "[3] Tuple Are Ordered, To Use Index To Access Item  \n",
    "[4] Tuple Are Immutable => You Cant Add or Delete  \n",
    "[5] Tuple Items Is Not Unique  \n",
    "[6] Tuple Can Have Different Data Types  \n",
    "[7] Operators Used in Strings and Lists Available In Tuples"
   ]
  },
  {
   "cell_type": "code",
   "execution_count": 126,
   "metadata": {},
   "outputs": [
    {
     "name": "stdout",
     "output_type": "stream",
     "text": [
      "('Osama', 'Ahmed')\n",
      "('Osama', 'Ahmed')\n"
     ]
    }
   ],
   "source": [
    "myAwesomeTupleOne = (\"Osama\", \"Ahmed\")\n",
    "myAwesomeTupleTwo = \"Osama\", \"Ahmed\"\n",
    "print(myAwesomeTupleOne)\n",
    "print(myAwesomeTupleTwo)"
   ]
  },
  {
   "cell_type": "code",
   "execution_count": 127,
   "metadata": {},
   "outputs": [
    {
     "name": "stdout",
     "output_type": "stream",
     "text": [
      "<class 'tuple'>\n",
      "<class 'tuple'>\n"
     ]
    }
   ],
   "source": [
    "print(type(myAwesomeTupleOne))\n",
    "print(type(myAwesomeTupleTwo))"
   ]
  },
  {
   "cell_type": "code",
   "execution_count": 128,
   "metadata": {},
   "outputs": [
    {
     "name": "stdout",
     "output_type": "stream",
     "text": [
      "1\n",
      "5\n",
      "3\n"
     ]
    }
   ],
   "source": [
    "myAwesomeTupleThree = (1, 2, 3, 4, 5)\n",
    "print(myAwesomeTupleThree[0])\n",
    "print(myAwesomeTupleThree[-1])\n",
    "print(myAwesomeTupleThree[-3])"
   ]
  },
  {
   "cell_type": "code",
   "execution_count": 129,
   "metadata": {},
   "outputs": [
    {
     "name": "stdout",
     "output_type": "stream",
     "text": [
      "(1, 2, 3, 4, 5)\n"
     ]
    }
   ],
   "source": [
    "# Tuple Assign Values\n",
    "myAwesomeTupleFour = (1, 2, 3, 4, 5)\n",
    "print(myAwesomeTupleFour)"
   ]
  },
  {
   "cell_type": "markdown",
   "metadata": {},
   "source": [
    "```\n",
    "myAwesomeTupleFour[2] = \"Three\"\n",
    "print(myAwesomeTupleFour)\n",
    "```\n",
    "'tuple' object does not support item assignment\n"
   ]
  },
  {
   "cell_type": "code",
   "execution_count": 130,
   "metadata": {},
   "outputs": [
    {
     "name": "stdout",
     "output_type": "stream",
     "text": [
      "Osama\n",
      "True\n"
     ]
    }
   ],
   "source": [
    "myAwesomeTupleFive = (\"Osama\", \"Osama\", 1, 2, 3, 100.5, True)\n",
    "print(myAwesomeTupleFive[1])\n",
    "print(myAwesomeTupleFive[-1])"
   ]
  },
  {
   "attachments": {},
   "cell_type": "markdown",
   "metadata": {},
   "source": [
    "## 025 – Tuples Methods Part 2\n",
    "<a class=\"anchor\" id=\"25\"></a>"
   ]
  },
  {
   "cell_type": "code",
   "execution_count": 131,
   "metadata": {},
   "outputs": [
    {
     "name": "stdout",
     "output_type": "stream",
     "text": [
      "('Osama',)\n",
      "('Osama',)\n"
     ]
    }
   ],
   "source": [
    "myTuple1 = (\"Osama\",)\n",
    "myTuple2 = \"Osama\",\n",
    "print(myTuple1)\n",
    "print(myTuple2)"
   ]
  },
  {
   "cell_type": "code",
   "execution_count": 132,
   "metadata": {},
   "outputs": [
    {
     "name": "stdout",
     "output_type": "stream",
     "text": [
      "<class 'tuple'>\n",
      "<class 'tuple'>\n"
     ]
    }
   ],
   "source": [
    "print(type(myTuple1))\n",
    "print(type(myTuple2))"
   ]
  },
  {
   "cell_type": "code",
   "execution_count": 133,
   "metadata": {},
   "outputs": [
    {
     "name": "stdout",
     "output_type": "stream",
     "text": [
      "1\n",
      "1\n"
     ]
    }
   ],
   "source": [
    "print(len(myTuple1))\n",
    "print(len(myTuple2))"
   ]
  },
  {
   "cell_type": "code",
   "execution_count": 134,
   "metadata": {},
   "outputs": [
    {
     "name": "stdout",
     "output_type": "stream",
     "text": [
      "(1, 2, 3, 4, 5, 6)\n",
      "(1, 2, 3, 4, 'A', 'B', True, 5, 6)\n"
     ]
    }
   ],
   "source": [
    "a = (1, 2, 3, 4)\n",
    "b = (5, 6)\n",
    "c = a + b\n",
    "d = a + (\"A\", \"B\", True) + b\n",
    "print(c)\n",
    "print(d)"
   ]
  },
  {
   "cell_type": "code",
   "execution_count": 135,
   "metadata": {},
   "outputs": [
    {
     "name": "stdout",
     "output_type": "stream",
     "text": [
      "OsamaOsamaOsamaOsamaOsamaOsama\n",
      "[1, 2, 1, 2, 1, 2, 1, 2, 1, 2, 1, 2]\n",
      "('A', 'B', 'A', 'B', 'A', 'B', 'A', 'B', 'A', 'B', 'A', 'B')\n"
     ]
    }
   ],
   "source": [
    "myString = \"Osama\"\n",
    "myList = [1, 2]\n",
    "myTuple = (\"A\", \"B\")\n",
    "\n",
    "print(myString * 6)\n",
    "print(myList * 6)\n",
    "print(myTuple * 6)"
   ]
  },
  {
   "cell_type": "code",
   "execution_count": 136,
   "metadata": {},
   "outputs": [
    {
     "name": "stdout",
     "output_type": "stream",
     "text": [
      "2\n"
     ]
    }
   ],
   "source": [
    "a = (1, 3, 7, 8, 2, 6, 5, 8)\n",
    "print(a.count(8))"
   ]
  },
  {
   "cell_type": "code",
   "execution_count": 137,
   "metadata": {},
   "outputs": [
    {
     "name": "stdout",
     "output_type": "stream",
     "text": [
      "The Position of Index Is: 2\n",
      "The Position of Index Is: 2\n"
     ]
    }
   ],
   "source": [
    "b = (1, 3, 7, 8, 2, 6, 5)\n",
    "print(\"The Position of Index Is: {:d}\".format(b.index(7)))\n",
    "print(f\"The Position of Index Is: {b.index(7)}\")"
   ]
  },
  {
   "cell_type": "code",
   "execution_count": 138,
   "metadata": {},
   "outputs": [
    {
     "name": "stdout",
     "output_type": "stream",
     "text": [
      "A\n",
      "B\n",
      "C\n"
     ]
    }
   ],
   "source": [
    "# Tuple Destruct\n",
    "a = (\"A\", \"B\", 4, \"C\")\n",
    "\n",
    "x, y, _, z = a\n",
    "\n",
    "print(x)\n",
    "print(y)\n",
    "print(z)"
   ]
  },
  {
   "attachments": {},
   "cell_type": "markdown",
   "metadata": {},
   "source": [
    "# Week 4\n",
    "<a class=\"anchor\" id=\"week4\"></a>"
   ]
  },
  {
   "attachments": {},
   "cell_type": "markdown",
   "metadata": {},
   "source": [
    "## 026 – Set\n",
    "<a class=\"anchor\" id=\"26\"></a>"
   ]
  },
  {
   "cell_type": "markdown",
   "metadata": {},
   "source": [
    "[1] Set Items Are Enclosed in Curly Braces  \n",
    "[2] Set Items Are Not Ordered And Not Indexed  \n",
    "[3] Set Indexing and Slicing Cant Be Done  \n",
    "[4] Set Has Only Immutable Data Types (Numbers, Strings, Tuples) List and Dict Are Not  \n",
    "[5] Set Items Is Unique"
   ]
  },
  {
   "cell_type": "code",
   "execution_count": 139,
   "metadata": {},
   "outputs": [
    {
     "name": "stdout",
     "output_type": "stream",
     "text": [
      "{100, 'Osama', 'Ahmed'}\n"
     ]
    }
   ],
   "source": [
    "# Not Ordered And Not Indexed\n",
    "\n",
    "mySetOne = {\"Osama\", \"Ahmed\", 100}\n",
    "print(mySetOne)"
   ]
  },
  {
   "cell_type": "markdown",
   "metadata": {},
   "source": [
    "`print(mySetOne[0])` will produce an error."
   ]
  },
  {
   "attachments": {},
   "cell_type": "markdown",
   "metadata": {},
   "source": [
    "Slicing Cant Be Done\n",
    "```\n",
    "mySetTwo = {1, 2, 3, 4, 5, 6}\n",
    "print(mySetTwo[0:3])\n",
    "```\n",
    "Will also produce an error."
   ]
  },
  {
   "attachments": {},
   "cell_type": "markdown",
   "metadata": {},
   "source": [
    "Has Only Immutable Data Types\n",
    "\n",
    "`mySetThree = {\"Osama\", 100, 100.5, True, [1, 2, 3]}`   \n",
    "Error,  unhashable type: 'list'"
   ]
  },
  {
   "cell_type": "code",
   "execution_count": 140,
   "metadata": {},
   "outputs": [
    {
     "name": "stdout",
     "output_type": "stream",
     "text": [
      "{True, 100.5, 100, (1, 2, 3), 'Osama'}\n"
     ]
    }
   ],
   "source": [
    "mySetThree = {\"Osama\", 100, 100.5, True, (1, 2, 3)}\n",
    "\n",
    "print(mySetThree)"
   ]
  },
  {
   "cell_type": "code",
   "execution_count": 141,
   "metadata": {},
   "outputs": [
    {
     "name": "stdout",
     "output_type": "stream",
     "text": [
      "{1, 2, 'Osama', 'One'}\n"
     ]
    }
   ],
   "source": [
    "# Items are Unique\n",
    "\n",
    "mySetFour = {1, 2, \"Osama\", \"One\", \"Osama\", 1}\n",
    "print(mySetFour)"
   ]
  },
  {
   "attachments": {},
   "cell_type": "markdown",
   "metadata": {},
   "source": [
    "## 027 – Set Methods Part 1\n",
    "<a class=\"anchor\" id=\"27\"></a>"
   ]
  },
  {
   "cell_type": "code",
   "execution_count": 142,
   "metadata": {},
   "outputs": [
    {
     "name": "stdout",
     "output_type": "stream",
     "text": [
      "set()\n"
     ]
    }
   ],
   "source": [
    "a = {1, 2, 3}\n",
    "a.clear()\n",
    "print(a)"
   ]
  },
  {
   "cell_type": "code",
   "execution_count": 143,
   "metadata": {},
   "outputs": [
    {
     "name": "stdout",
     "output_type": "stream",
     "text": [
      "{'One', 'Two', '2', 'Three', '1', '3'}\n",
      "{'One', 'Two', '2', 'Three', '1', '3'}\n",
      "{'One', 'Two', 'Cool', 'Zero', '2', 'Three', '1', '3'}\n"
     ]
    }
   ],
   "source": [
    "b = {\"One\", \"Two\", \"Three\"}\n",
    "c = {\"1\", \"2\", \"3\"}\n",
    "x = {\"Zero\", \"Cool\"}\n",
    "print(b | c)\n",
    "print(b.union(c))\n",
    "print(b.union(c, x))"
   ]
  },
  {
   "cell_type": "code",
   "execution_count": 144,
   "metadata": {},
   "outputs": [
    {
     "name": "stdout",
     "output_type": "stream",
     "text": [
      "{1, 2, 3, 4, 5, 6}\n"
     ]
    }
   ],
   "source": [
    "d = {1, 2, 3, 4}\n",
    "d.add(5)\n",
    "d.add(6)\n",
    "print(d)"
   ]
  },
  {
   "cell_type": "code",
   "execution_count": 145,
   "metadata": {},
   "outputs": [
    {
     "name": "stdout",
     "output_type": "stream",
     "text": [
      "{1, 2, 3, 4}\n",
      "{1, 2, 3, 4}\n",
      "{1, 2, 3, 4, 6}\n",
      "{1, 2, 3, 4}\n"
     ]
    }
   ],
   "source": [
    "e = {1, 2, 3, 4}\n",
    "f = e.copy()\n",
    "\n",
    "\n",
    "print(e)\n",
    "print(f)\n",
    "e.add(6)\n",
    "print(e)\n",
    "print(f)"
   ]
  },
  {
   "cell_type": "code",
   "execution_count": 146,
   "metadata": {},
   "outputs": [
    {
     "name": "stdout",
     "output_type": "stream",
     "text": [
      "{2, 3, 4}\n"
     ]
    }
   ],
   "source": [
    "g = {1, 2, 3, 4}\n",
    "g.remove(1)\n",
    "# g.remove(7) will remove an error\n",
    "print(g)"
   ]
  },
  {
   "cell_type": "code",
   "execution_count": 147,
   "metadata": {},
   "outputs": [
    {
     "name": "stdout",
     "output_type": "stream",
     "text": [
      "{2, 3, 4}\n"
     ]
    }
   ],
   "source": [
    "h = {1, 2, 3, 4}\n",
    "h.discard(1)\n",
    "h.discard(7)# wont produce an error\n",
    "print(h)"
   ]
  },
  {
   "cell_type": "code",
   "execution_count": 148,
   "metadata": {},
   "outputs": [
    {
     "name": "stdout",
     "output_type": "stream",
     "text": [
      "True\n"
     ]
    }
   ],
   "source": [
    "i = {\"A\", True, 1, 2, 3, 4, 5}\n",
    "print(i.pop())"
   ]
  },
  {
   "cell_type": "code",
   "execution_count": 149,
   "metadata": {},
   "outputs": [
    {
     "name": "stdout",
     "output_type": "stream",
     "text": [
      "{1, 2, 3, 'Html', 'A', 'Css', 'B'}\n"
     ]
    }
   ],
   "source": [
    "j = {1, 2, 3}\n",
    "k = {1, \"A\", \"B\", 2}\n",
    "j.update(['Html', \"Css\"])\n",
    "j.update(k)\n",
    "\n",
    "print(j)"
   ]
  },
  {
   "attachments": {},
   "cell_type": "markdown",
   "metadata": {},
   "source": [
    "## 028 – Set Methods Part 2\n",
    "<a class=\"anchor\" id=\"28\"></a>"
   ]
  },
  {
   "cell_type": "code",
   "execution_count": 150,
   "metadata": {},
   "outputs": [
    {
     "name": "stdout",
     "output_type": "stream",
     "text": [
      "{1, 2, 3, 4}\n",
      "{4}\n",
      "{1, 2, 3, 4}\n"
     ]
    }
   ],
   "source": [
    "a = {1, 2, 3, 4}\n",
    "b = {1, 2, 3, \"Osama\", \"Ahmed\"}\n",
    "print(a)\n",
    "print(a.difference(b))  # a - b\n",
    "print(a)"
   ]
  },
  {
   "cell_type": "code",
   "execution_count": 151,
   "metadata": {},
   "outputs": [
    {
     "name": "stdout",
     "output_type": "stream",
     "text": [
      "{1, 2, 3, 4}\n",
      "{3, 4}\n"
     ]
    }
   ],
   "source": [
    "c = {1, 2, 3, 4}\n",
    "d = {1, 2, \"Osama\", \"Ahmed\"}\n",
    "print(c)\n",
    "c.difference_update(d)  # c - d\n",
    "print(c)"
   ]
  },
  {
   "cell_type": "code",
   "execution_count": 152,
   "metadata": {},
   "outputs": [
    {
     "name": "stdout",
     "output_type": "stream",
     "text": [
      "{1, 2, 3, 4, 'X', 'Osama'}\n",
      "{'X', 2, 'Osama'}\n",
      "{1, 2, 3, 4, 'X', 'Osama'}\n"
     ]
    }
   ],
   "source": [
    "e = {1, 2, 3, 4, \"X\", \"Osama\"}\n",
    "f = {\"Osama\", \"X\", 2}\n",
    "print(e)\n",
    "print(e.intersection(f))  # e & f\n",
    "print(e)"
   ]
  },
  {
   "cell_type": "code",
   "execution_count": 153,
   "metadata": {},
   "outputs": [
    {
     "name": "stdout",
     "output_type": "stream",
     "text": [
      "{1, 2, 3, 4, 'X', 'Osama'}\n",
      "{'X', 2, 'Osama'}\n"
     ]
    }
   ],
   "source": [
    "g = {1, 2, 3, 4, \"X\", \"Osama\"}\n",
    "h = {\"Osama\", \"X\", 2}\n",
    "print(g)\n",
    "g.intersection_update(h)  # g & h\n",
    "print(g)"
   ]
  },
  {
   "cell_type": "code",
   "execution_count": 154,
   "metadata": {},
   "outputs": [
    {
     "name": "stdout",
     "output_type": "stream",
     "text": [
      "{1, 2, 3, 4, 5}\n",
      "{0, 1, 2}\n",
      "{1, 2, 3, 4, 5}\n"
     ]
    }
   ],
   "source": [
    "i = {1,2,3,4,5}\n",
    "j = {0,3,4,5}\n",
    "print(i)\n",
    "print(i.symmetric_difference(j))  # i ^ j\n",
    "print(i)"
   ]
  },
  {
   "cell_type": "code",
   "execution_count": 155,
   "metadata": {},
   "outputs": [
    {
     "name": "stdout",
     "output_type": "stream",
     "text": [
      "{1, 2, 3, 4, 5}\n",
      "{0, 1, 2}\n"
     ]
    }
   ],
   "source": [
    "i = {1,2,3,4,5}\n",
    "j = {0,3,4,5}\n",
    "print(i)\n",
    "i.symmetric_difference_update(j)  # i ^ j\n",
    "print(i)"
   ]
  },
  {
   "attachments": {},
   "cell_type": "markdown",
   "metadata": {},
   "source": [
    "## 029 – Set Methods Part 3\n",
    "<a class=\"anchor\" id=\"29\"></a>"
   ]
  },
  {
   "cell_type": "code",
   "execution_count": 156,
   "metadata": {},
   "outputs": [
    {
     "name": "stdout",
     "output_type": "stream",
     "text": [
      "True\n",
      "False\n"
     ]
    }
   ],
   "source": [
    "a = {1, 2, 3, 4}\n",
    "b = {1, 2, 3}\n",
    "c = {1, 2, 3, 4, 5}\n",
    "\n",
    "print(a.issuperset(b))\n",
    "print(a.issuperset(c)) "
   ]
  },
  {
   "cell_type": "code",
   "execution_count": 157,
   "metadata": {},
   "outputs": [
    {
     "name": "stdout",
     "output_type": "stream",
     "text": [
      "False\n",
      "True\n"
     ]
    }
   ],
   "source": [
    "d = {1, 2, 3, 4}\n",
    "e = {1, 2, 3}\n",
    "f = {1, 2, 3, 4, 5}\n",
    "\n",
    "print(d.issubset(e))\n",
    "print(d.issubset(f))"
   ]
  },
  {
   "cell_type": "code",
   "execution_count": 158,
   "metadata": {},
   "outputs": [
    {
     "name": "stdout",
     "output_type": "stream",
     "text": [
      "False\n",
      "True\n"
     ]
    }
   ],
   "source": [
    "g = {1, 2, 3, 4}\n",
    "h = {1, 2, 3}\n",
    "i = {10, 11, 12}\n",
    "\n",
    "print(g.isdisjoint(h))\n",
    "print(g.isdisjoint(i)) "
   ]
  },
  {
   "attachments": {},
   "cell_type": "markdown",
   "metadata": {},
   "source": [
    "## 030 – Dictionary\n",
    "<a class=\"anchor\" id=\"30\"></a>"
   ]
  },
  {
   "cell_type": "markdown",
   "metadata": {},
   "source": [
    "[1] Dict Items Are Enclosed in Curly Braces  \n",
    "[2] Dict Items Are Contains Key : Value  \n",
    "[3] Dict Key Need To Be Immutable => (Number, String, Tuple) List Not Allowed  \n",
    "[4] Dict Value Can Have Any Data Types  \n",
    "[5] Dict Key Need To Be Unique  \n",
    "[6] Dict Is Not Ordered You Access Its Element With Key"
   ]
  },
  {
   "cell_type": "code",
   "execution_count": 159,
   "metadata": {},
   "outputs": [
    {
     "name": "stdout",
     "output_type": "stream",
     "text": [
      "{'name': 'Osama', 'age': 36, 'country': 'Egypt', 'skills': ['Html', 'Css', 'JS'], 'rating': 10.5}\n"
     ]
    }
   ],
   "source": [
    "user = {\n",
    "  \"name\": \"Osama\",\n",
    "  \"age\": 36,\n",
    "  \"country\": \"Egypt\",\n",
    "  \"skills\": [\"Html\", \"Css\", \"JS\"],\n",
    "  \"rating\": 10.5\n",
    "}\n",
    "print(user)"
   ]
  },
  {
   "cell_type": "code",
   "execution_count": 160,
   "metadata": {},
   "outputs": [
    {
     "name": "stdout",
     "output_type": "stream",
     "text": [
      "{'name': 'Ahmed', 'age': 36, 'country': 'Egypt', 'skills': ['Html', 'Css', 'JS'], 'rating': 10.5}\n"
     ]
    }
   ],
   "source": [
    "user = {\n",
    "  \"name\": \"Osama\",\n",
    "  \"age\": 36,\n",
    "  \"country\": \"Egypt\",\n",
    "  \"skills\": [\"Html\", \"Css\", \"JS\"],\n",
    "  \"rating\": 10.5,\n",
    "  \"name\": \"Ahmed\"\n",
    "}\n",
    "print(user)"
   ]
  },
  {
   "cell_type": "markdown",
   "metadata": {},
   "source": [
    "* Notice that it prints Ahmed not Osama as it is defined later."
   ]
  },
  {
   "cell_type": "code",
   "execution_count": 161,
   "metadata": {},
   "outputs": [
    {
     "name": "stdout",
     "output_type": "stream",
     "text": [
      "Egypt\n",
      "Egypt\n"
     ]
    }
   ],
   "source": [
    "print(user['country'])\n",
    "print(user.get(\"country\"))"
   ]
  },
  {
   "cell_type": "code",
   "execution_count": 162,
   "metadata": {},
   "outputs": [
    {
     "name": "stdout",
     "output_type": "stream",
     "text": [
      "dict_keys(['name', 'age', 'country', 'skills', 'rating'])\n"
     ]
    }
   ],
   "source": [
    "print(user.keys())"
   ]
  },
  {
   "cell_type": "code",
   "execution_count": 163,
   "metadata": {},
   "outputs": [
    {
     "name": "stdout",
     "output_type": "stream",
     "text": [
      "dict_values(['Ahmed', 36, 'Egypt', ['Html', 'Css', 'JS'], 10.5])\n"
     ]
    }
   ],
   "source": [
    "print(user.values())"
   ]
  },
  {
   "cell_type": "code",
   "execution_count": 164,
   "metadata": {},
   "outputs": [],
   "source": [
    "languages = {\n",
    "  \"One\": {\n",
    "    \"name\": \"Html\",\n",
    "    \"progress\": \"80%\"\n",
    "  },\n",
    "  \"Two\": {\n",
    "    \"name\": \"Css\",\n",
    "    \"progress\": \"90%\"\n",
    "  },\n",
    "  \"Three\": {\n",
    "    \"name\": \"Js\",\n",
    "    \"progress\": \"90%\"\n",
    "  }\n",
    "}\n"
   ]
  },
  {
   "cell_type": "code",
   "execution_count": 165,
   "metadata": {},
   "outputs": [
    {
     "name": "stdout",
     "output_type": "stream",
     "text": [
      "{'One': {'name': 'Html', 'progress': '80%'}, 'Two': {'name': 'Css', 'progress': '90%'}, 'Three': {'name': 'Js', 'progress': '90%'}}\n"
     ]
    }
   ],
   "source": [
    "print(languages)"
   ]
  },
  {
   "cell_type": "code",
   "execution_count": 166,
   "metadata": {},
   "outputs": [
    {
     "name": "stdout",
     "output_type": "stream",
     "text": [
      "{'name': 'Html', 'progress': '80%'}\n"
     ]
    }
   ],
   "source": [
    "print(languages['One'])"
   ]
  },
  {
   "cell_type": "code",
   "execution_count": 167,
   "metadata": {},
   "outputs": [
    {
     "name": "stdout",
     "output_type": "stream",
     "text": [
      "Js\n"
     ]
    }
   ],
   "source": [
    "print(languages['Three']['name'])"
   ]
  },
  {
   "cell_type": "code",
   "execution_count": 168,
   "metadata": {},
   "outputs": [
    {
     "name": "stdout",
     "output_type": "stream",
     "text": [
      "3\n"
     ]
    }
   ],
   "source": [
    "print(len(languages))"
   ]
  },
  {
   "cell_type": "code",
   "execution_count": 169,
   "metadata": {},
   "outputs": [
    {
     "name": "stdout",
     "output_type": "stream",
     "text": [
      "2\n"
     ]
    }
   ],
   "source": [
    "print(len(languages[\"Two\"]))"
   ]
  },
  {
   "cell_type": "code",
   "execution_count": 170,
   "metadata": {},
   "outputs": [
    {
     "name": "stdout",
     "output_type": "stream",
     "text": [
      "{'one': {'name': 'Vuejs', 'progress': '80%'}, 'two': {'name': 'ReactJs', 'progress': '80%'}, 'three': {'name': 'Angular', 'progress': '80%'}}\n"
     ]
    }
   ],
   "source": [
    "frameworkOne = {\n",
    "  \"name\": \"Vuejs\",\n",
    "  \"progress\": \"80%\"\n",
    "}\n",
    "frameworkTwo = {\n",
    "  \"name\": \"ReactJs\",\n",
    "  \"progress\": \"80%\"\n",
    "}\n",
    "frameworkThree = {\n",
    "  \"name\": \"Angular\",\n",
    "  \"progress\": \"80%\"\n",
    "}\n",
    "allFramework = {\n",
    "  \"one\": frameworkOne,\n",
    "  \"two\": frameworkTwo,\n",
    "  \"three\": frameworkThree\n",
    "}\n",
    "print(allFramework)"
   ]
  },
  {
   "attachments": {},
   "cell_type": "markdown",
   "metadata": {},
   "source": [
    "## 031 – Dictionary Methods Part 1\n",
    "<a class=\"anchor\" id=\"31\"></a>"
   ]
  },
  {
   "cell_type": "code",
   "execution_count": 171,
   "metadata": {},
   "outputs": [
    {
     "name": "stdout",
     "output_type": "stream",
     "text": [
      "{'name': 'Osama'}\n",
      "{}\n"
     ]
    }
   ],
   "source": [
    "user = {\n",
    "  \"name\": \"Osama\"\n",
    "}\n",
    "print(user)\n",
    "user.clear()\n",
    "print(user)"
   ]
  },
  {
   "cell_type": "code",
   "execution_count": 172,
   "metadata": {},
   "outputs": [
    {
     "name": "stdout",
     "output_type": "stream",
     "text": [
      "{'name': 'Osama'}\n",
      "{'name': 'Osama', 'age': 36}\n",
      "{'name': 'Osama', 'age': 36, 'country': 'Egypt'}\n"
     ]
    }
   ],
   "source": [
    "member = {\n",
    "  \"name\": \"Osama\"\n",
    "}\n",
    "print(member)\n",
    "member[\"age\"] = 36\n",
    "print(member)\n",
    "member.update({\"country\": \"Egypt\"})\n",
    "print(member)\n",
    "# Both ways are equivalent."
   ]
  },
  {
   "cell_type": "code",
   "execution_count": 173,
   "metadata": {},
   "outputs": [
    {
     "name": "stdout",
     "output_type": "stream",
     "text": [
      "{'name': 'Osama'}\n",
      "{'name': 'Osama', 'skills': 'Fighting'}\n",
      "{'name': 'Osama'}\n"
     ]
    }
   ],
   "source": [
    "main = {\n",
    "  \"name\": \"Osama\"\n",
    "}\n",
    "\n",
    "b = main.copy()\n",
    "print(b)\n",
    "main.update({\"skills\": \"Fighting\"})\n",
    "print(main)\n",
    "print(b)"
   ]
  },
  {
   "cell_type": "code",
   "execution_count": 174,
   "metadata": {},
   "outputs": [
    {
     "name": "stdout",
     "output_type": "stream",
     "text": [
      "dict_keys(['name', 'skills'])\n"
     ]
    }
   ],
   "source": [
    "print(main.keys())"
   ]
  },
  {
   "cell_type": "code",
   "execution_count": 175,
   "metadata": {},
   "outputs": [
    {
     "name": "stdout",
     "output_type": "stream",
     "text": [
      "dict_values(['Osama', 'Fighting'])\n"
     ]
    }
   ],
   "source": [
    "print(main.values())"
   ]
  },
  {
   "attachments": {},
   "cell_type": "markdown",
   "metadata": {},
   "source": [
    "## 032 – Dictionary Methods Part 2\n",
    "<a class=\"anchor\" id=\"32\"></a>"
   ]
  },
  {
   "cell_type": "code",
   "execution_count": 176,
   "metadata": {},
   "outputs": [
    {
     "name": "stdout",
     "output_type": "stream",
     "text": [
      "{'name': 'Osama'}\n",
      "{'name': 'Osama', 'age': 36}\n"
     ]
    }
   ],
   "source": [
    "user = {\n",
    "  \"name\": \"Osama\"\n",
    "}\n",
    "print(user)\n",
    "user.setdefault(\"name\",\"Ahmed\")\n",
    "user.setdefault(\"age\", 36)\n",
    "print(user)"
   ]
  },
  {
   "cell_type": "code",
   "execution_count": 177,
   "metadata": {},
   "outputs": [
    {
     "name": "stdout",
     "output_type": "stream",
     "text": [
      "Osama\n"
     ]
    }
   ],
   "source": [
    "print(user.setdefault(\"name\",\"Ahmed\"))"
   ]
  },
  {
   "cell_type": "code",
   "execution_count": 178,
   "metadata": {},
   "outputs": [
    {
     "name": "stdout",
     "output_type": "stream",
     "text": [
      "{'name': 'Osama', 'skill': 'PS4'}\n",
      "{'name': 'Osama', 'skill': 'PS4', 'age': 36}\n",
      "('age', 36)\n",
      "{'name': 'Osama', 'skill': 'PS4'}\n"
     ]
    }
   ],
   "source": [
    "member = {\n",
    "  \"name\": \"Osama\",\n",
    "  \"skill\": \"PS4\"\n",
    "}\n",
    "print(member)\n",
    "member.update({\"age\": 36})\n",
    "print(member)\n",
    "print(member.popitem())\n",
    "print(member)"
   ]
  },
  {
   "cell_type": "code",
   "execution_count": 179,
   "metadata": {},
   "outputs": [
    {
     "name": "stdout",
     "output_type": "stream",
     "text": [
      "{'name': 'Osama', 'skill': 'XBox'}\n"
     ]
    }
   ],
   "source": [
    "view = {\n",
    "  \"name\": \"Osama\",\n",
    "  \"skill\": \"XBox\"\n",
    "}\n",
    "\n",
    "allItems = view.items()\n",
    "print(view)"
   ]
  },
  {
   "cell_type": "code",
   "execution_count": 180,
   "metadata": {},
   "outputs": [
    {
     "name": "stdout",
     "output_type": "stream",
     "text": [
      "{'name': 'Osama', 'skill': 'XBox', 'age': 36}\n"
     ]
    }
   ],
   "source": [
    "view[\"age\"] = 36\n",
    "print(view)"
   ]
  },
  {
   "cell_type": "code",
   "execution_count": 181,
   "metadata": {},
   "outputs": [
    {
     "name": "stdout",
     "output_type": "stream",
     "text": [
      "dict_items([('name', 'Osama'), ('skill', 'XBox'), ('age', 36)])\n"
     ]
    }
   ],
   "source": [
    "print(allItems)"
   ]
  },
  {
   "cell_type": "code",
   "execution_count": 182,
   "metadata": {},
   "outputs": [
    {
     "name": "stdout",
     "output_type": "stream",
     "text": [
      "{'MyKeyOne': 'X', 'MyKeyTwo': 'X', 'MyKeyThree': 'X'}\n"
     ]
    }
   ],
   "source": [
    "a = ('MyKeyOne', 'MyKeyTwo', 'MyKeyThree')\n",
    "b = \"X\"\n",
    "\n",
    "print(dict.fromkeys(a, b))"
   ]
  },
  {
   "cell_type": "code",
   "execution_count": 183,
   "metadata": {},
   "outputs": [
    {
     "name": "stdout",
     "output_type": "stream",
     "text": [
      "{'name': 'Ahmed'}\n"
     ]
    }
   ],
   "source": [
    "user = {\n",
    "  \"name\": \"Ahmed\"\n",
    "}\n",
    "me = user\n",
    "print(me)"
   ]
  },
  {
   "cell_type": "code",
   "execution_count": 184,
   "metadata": {},
   "outputs": [
    {
     "name": "stdout",
     "output_type": "stream",
     "text": [
      "{'name': 'Ahmed', 'age': 21}\n"
     ]
    }
   ],
   "source": [
    "user[\"age\"]=21\n",
    "print(me)"
   ]
  },
  {
   "attachments": {},
   "cell_type": "markdown",
   "metadata": {},
   "source": [
    "* Notice that `me` got updated because `me` and `user` share the same data."
   ]
  },
  {
   "attachments": {},
   "cell_type": "markdown",
   "metadata": {},
   "source": [
    "# Week 5\n",
    "<a class=\"anchor\" id=\"week5\"></a>"
   ]
  },
  {
   "attachments": {},
   "cell_type": "markdown",
   "metadata": {},
   "source": [
    "## 033 – Boolean\n",
    "<a class=\"anchor\" id=\"33\"></a>"
   ]
  },
  {
   "cell_type": "markdown",
   "metadata": {},
   "source": [
    "[1] In Programming You Need to Known Your If Your Code Output is True Or False  \n",
    "[2] Boolean Values Are The Two Constant Objects False + True."
   ]
  },
  {
   "cell_type": "code",
   "execution_count": 185,
   "metadata": {},
   "outputs": [
    {
     "name": "stdout",
     "output_type": "stream",
     "text": [
      "True\n"
     ]
    }
   ],
   "source": [
    "name = \" \"\n",
    "print(name.isspace())"
   ]
  },
  {
   "cell_type": "code",
   "execution_count": 186,
   "metadata": {},
   "outputs": [
    {
     "name": "stdout",
     "output_type": "stream",
     "text": [
      "False\n"
     ]
    }
   ],
   "source": [
    "name = \"Ahmed\"\n",
    "print(name.isspace())"
   ]
  },
  {
   "cell_type": "code",
   "execution_count": 187,
   "metadata": {},
   "outputs": [
    {
     "name": "stdout",
     "output_type": "stream",
     "text": [
      "False\n",
      "False\n",
      "True\n"
     ]
    }
   ],
   "source": [
    "print(100 > 200)\n",
    "print(100 > 100)\n",
    "print(100 > 90)"
   ]
  },
  {
   "cell_type": "code",
   "execution_count": 188,
   "metadata": {},
   "outputs": [
    {
     "name": "stdout",
     "output_type": "stream",
     "text": [
      "True\n",
      "True\n",
      "True\n",
      "True\n",
      "True\n"
     ]
    }
   ],
   "source": [
    "print(bool(\"Osama\"))\n",
    "print(bool(100))\n",
    "print(bool(100.95))\n",
    "print(bool(True))\n",
    "print(bool([1, 2, 3, 4, 5]))"
   ]
  },
  {
   "cell_type": "code",
   "execution_count": 189,
   "metadata": {},
   "outputs": [
    {
     "name": "stdout",
     "output_type": "stream",
     "text": [
      "False\n",
      "False\n",
      "False\n",
      "False\n",
      "False\n",
      "False\n",
      "False\n",
      "False\n"
     ]
    }
   ],
   "source": [
    "print(bool(0))\n",
    "print(bool(\"\"))\n",
    "print(bool(''))\n",
    "print(bool([]))\n",
    "print(bool(False))\n",
    "print(bool(()))\n",
    "print(bool({}))\n",
    "print(bool(None))"
   ]
  },
  {
   "attachments": {},
   "cell_type": "markdown",
   "metadata": {},
   "source": [
    "## 034 – Boolean Operators\n",
    "<a class=\"anchor\" id=\"34\"></a>"
   ]
  },
  {
   "cell_type": "code",
   "execution_count": 190,
   "metadata": {},
   "outputs": [
    {
     "name": "stdout",
     "output_type": "stream",
     "text": [
      "True\n"
     ]
    }
   ],
   "source": [
    "name = \"ahmed\"\n",
    "age = 21\n",
    "print(name ==\"ahmed\" and age == 21)"
   ]
  },
  {
   "cell_type": "code",
   "execution_count": 191,
   "metadata": {},
   "outputs": [
    {
     "name": "stdout",
     "output_type": "stream",
     "text": [
      "False\n"
     ]
    }
   ],
   "source": [
    "print(name ==\"ahmed\" and age > 21)"
   ]
  },
  {
   "cell_type": "code",
   "execution_count": 192,
   "metadata": {},
   "outputs": [
    {
     "name": "stdout",
     "output_type": "stream",
     "text": [
      "True\n"
     ]
    }
   ],
   "source": [
    "print(name ==\"ahmed\" or age > 21)"
   ]
  },
  {
   "cell_type": "code",
   "execution_count": 193,
   "metadata": {},
   "outputs": [
    {
     "name": "stdout",
     "output_type": "stream",
     "text": [
      "False\n"
     ]
    }
   ],
   "source": [
    "print(name ==\"mohamed\" or age > 21)"
   ]
  },
  {
   "cell_type": "code",
   "execution_count": 194,
   "metadata": {},
   "outputs": [
    {
     "name": "stdout",
     "output_type": "stream",
     "text": [
      "True\n"
     ]
    }
   ],
   "source": [
    "print(not age > 21)"
   ]
  },
  {
   "cell_type": "code",
   "execution_count": 195,
   "metadata": {},
   "outputs": [
    {
     "name": "stdout",
     "output_type": "stream",
     "text": [
      "True\n"
     ]
    }
   ],
   "source": [
    "print(not (name ==\"ahmed\" and age > 21))"
   ]
  },
  {
   "attachments": {},
   "cell_type": "markdown",
   "metadata": {},
   "source": [
    "## 035 – Assignment Operators\n",
    "<a class=\"anchor\" id=\"35\"></a>"
   ]
  },
  {
   "cell_type": "markdown",
   "metadata": {},
   "source": [
    "=  \n",
    "+=  \n",
    "-=  \n",
    "*=  \n",
    "/=  \n",
    "**=  \n",
    "%=  \n",
    "//="
   ]
  },
  {
   "cell_type": "code",
   "execution_count": 196,
   "metadata": {},
   "outputs": [
    {
     "name": "stdout",
     "output_type": "stream",
     "text": [
      "30\n"
     ]
    }
   ],
   "source": [
    "x = 10\n",
    "y = 20\n",
    "x = x+y\n",
    "print(x)"
   ]
  },
  {
   "cell_type": "markdown",
   "metadata": {},
   "source": [
    "* A better way"
   ]
  },
  {
   "cell_type": "code",
   "execution_count": 197,
   "metadata": {},
   "outputs": [
    {
     "name": "stdout",
     "output_type": "stream",
     "text": [
      "30\n"
     ]
    }
   ],
   "source": [
    "a = 10\n",
    "b = 20\n",
    "a+= b\n",
    "print(a)"
   ]
  },
  {
   "cell_type": "code",
   "execution_count": 198,
   "metadata": {},
   "outputs": [
    {
     "name": "stdout",
     "output_type": "stream",
     "text": [
      "10\n"
     ]
    }
   ],
   "source": [
    "x = 30\n",
    "y = 20\n",
    "x = x-y\n",
    "print(x)"
   ]
  },
  {
   "cell_type": "code",
   "execution_count": 199,
   "metadata": {},
   "outputs": [
    {
     "name": "stdout",
     "output_type": "stream",
     "text": [
      "10\n"
     ]
    }
   ],
   "source": [
    "a = 30\n",
    "b = 20\n",
    "a -= b\n",
    "print(a)"
   ]
  },
  {
   "cell_type": "markdown",
   "metadata": {},
   "source": [
    "Var One = Self [Operator] Var Two  \n",
    "Var One [Operator]= Var Two"
   ]
  },
  {
   "attachments": {},
   "cell_type": "markdown",
   "metadata": {},
   "source": [
    "## 036 – Comparison Operators\n",
    "<a class=\"anchor\" id=\"36\"></a>"
   ]
  },
  {
   "attachments": {},
   "cell_type": "markdown",
   "metadata": {},
   "source": [
    "[ == ] Equal  \n",
    "[ != ] Not Equal  \n",
    "[ > ] Greater Than  \n",
    "[ < ] Less Than  \n",
    "[ >= ] Greater Than Or Equal  \n",
    "[ <= ] Less Than Or Equal"
   ]
  },
  {
   "cell_type": "code",
   "execution_count": 200,
   "metadata": {},
   "outputs": [
    {
     "name": "stdout",
     "output_type": "stream",
     "text": [
      "True\n",
      "False\n",
      "True\n"
     ]
    }
   ],
   "source": [
    "print(100 == 100)\n",
    "print(100 == 200)\n",
    "print(100 == 100.00)"
   ]
  },
  {
   "cell_type": "code",
   "execution_count": 201,
   "metadata": {},
   "outputs": [
    {
     "name": "stdout",
     "output_type": "stream",
     "text": [
      "False\n",
      "True\n",
      "False\n"
     ]
    }
   ],
   "source": [
    "print(100 != 100)\n",
    "print(100 != 200)\n",
    "print(100 != 100.00)"
   ]
  },
  {
   "cell_type": "code",
   "execution_count": 202,
   "metadata": {},
   "outputs": [
    {
     "name": "stdout",
     "output_type": "stream",
     "text": [
      "False\n",
      "False\n",
      "False\n",
      "True\n"
     ]
    }
   ],
   "source": [
    "print(100 > 100)\n",
    "print(100 > 200)\n",
    "print(100 > 100.00)\n",
    "print(100 > 40)"
   ]
  },
  {
   "cell_type": "code",
   "execution_count": 203,
   "metadata": {},
   "outputs": [
    {
     "name": "stdout",
     "output_type": "stream",
     "text": [
      "False\n",
      "True\n",
      "False\n",
      "False\n"
     ]
    }
   ],
   "source": [
    "print(100 < 100)\n",
    "print(100 < 200)\n",
    "print(100 < 100.00)\n",
    "print(100 < 40)"
   ]
  },
  {
   "cell_type": "code",
   "execution_count": 204,
   "metadata": {},
   "outputs": [
    {
     "name": "stdout",
     "output_type": "stream",
     "text": [
      "True\n",
      "False\n",
      "True\n",
      "True\n"
     ]
    }
   ],
   "source": [
    "print(100 >= 100)\n",
    "print(100 >= 200)\n",
    "print(100 >= 100.00)\n",
    "print(100 >= 40)"
   ]
  },
  {
   "cell_type": "code",
   "execution_count": 205,
   "metadata": {},
   "outputs": [
    {
     "name": "stdout",
     "output_type": "stream",
     "text": [
      "True\n",
      "True\n",
      "True\n",
      "False\n"
     ]
    }
   ],
   "source": [
    "print(100 <= 100)\n",
    "print(100 <= 200)\n",
    "print(100 <= 100.00)\n",
    "print(100 <= 40)"
   ]
  },
  {
   "attachments": {},
   "cell_type": "markdown",
   "metadata": {},
   "source": [
    "## 037 – Type Conversion\n",
    "<a class=\"anchor\" id=\"37\"></a>"
   ]
  },
  {
   "cell_type": "code",
   "execution_count": 206,
   "metadata": {},
   "outputs": [
    {
     "name": "stdout",
     "output_type": "stream",
     "text": [
      "<class 'int'>\n",
      "<class 'str'>\n"
     ]
    }
   ],
   "source": [
    "\n",
    "a = 10\n",
    "print(type(a))\n",
    "print(type(str(a)))"
   ]
  },
  {
   "cell_type": "code",
   "execution_count": 207,
   "metadata": {},
   "outputs": [
    {
     "name": "stdout",
     "output_type": "stream",
     "text": [
      "('O', 's', 'a', 'm', 'a')\n",
      "(1, 2, 3, 4, 5)\n",
      "('A', 'B', 'C')\n",
      "('A', 'B')\n"
     ]
    }
   ],
   "source": [
    "c = \"Osama\"\n",
    "d = [1, 2, 3, 4, 5]\n",
    "e = {\"A\", \"B\", \"C\"}\n",
    "f = {\"A\": 1, \"B\": 2}\n",
    "\n",
    "print(tuple(c))\n",
    "print(tuple(d))\n",
    "print(tuple(e))\n",
    "print(tuple(f))"
   ]
  },
  {
   "cell_type": "code",
   "execution_count": 208,
   "metadata": {},
   "outputs": [
    {
     "name": "stdout",
     "output_type": "stream",
     "text": [
      "['O', 's', 'a', 'm', 'a']\n",
      "[1, 2, 3, 4, 5]\n",
      "['A', 'B', 'C']\n",
      "['A', 'B']\n"
     ]
    }
   ],
   "source": [
    "c = \"Osama\"\n",
    "d = (1, 2, 3, 4, 5)\n",
    "e = {\"A\", \"B\", \"C\"}\n",
    "f = {\"A\": 1, \"B\": 2}\n",
    "\n",
    "print(list(c))\n",
    "print(list(d))\n",
    "print(list(e))\n",
    "print(list(f))\n"
   ]
  },
  {
   "cell_type": "code",
   "execution_count": 209,
   "metadata": {},
   "outputs": [
    {
     "name": "stdout",
     "output_type": "stream",
     "text": [
      "{'s', 'a', 'O', 'm'}\n",
      "{1, 2, 3, 4, 5}\n",
      "{'A', 'B', 'C'}\n",
      "{'A', 'B'}\n"
     ]
    }
   ],
   "source": [
    "c = \"Osama\"\n",
    "d = (1, 2, 3, 4, 5)\n",
    "e = [\"A\", \"B\", \"C\"]\n",
    "f = {\"A\": 1, \"B\": 2}\n",
    "\n",
    "print(set(c))\n",
    "print(set(d))\n",
    "print(set(e))\n",
    "print(set(f))"
   ]
  },
  {
   "cell_type": "code",
   "execution_count": 210,
   "metadata": {},
   "outputs": [
    {
     "name": "stdout",
     "output_type": "stream",
     "text": [
      "{'A': 1, 'B': 2, 'C': 3}\n",
      "{'One': 1, 'Two': 2, 'Three': 3}\n"
     ]
    }
   ],
   "source": [
    "d = ((\"A\", 1), (\"B\", 2), (\"C\", 3))\n",
    "e = [[\"One\", 1], [\"Two\", 2], [\"Three\", 3]]\n",
    "\n",
    "print(dict(d))\n",
    "print(dict(e))"
   ]
  },
  {
   "attachments": {},
   "cell_type": "markdown",
   "metadata": {},
   "source": [
    "## 038 – User Input\n",
    "<a class=\"anchor\" id=\"38\"></a>"
   ]
  },
  {
   "cell_type": "code",
   "execution_count": 211,
   "metadata": {},
   "outputs": [
    {
     "name": "stdout",
     "output_type": "stream",
     "text": [
      "Hello Ahmed H Darwish Happy To See You.\n"
     ]
    }
   ],
   "source": [
    "fName = input('What\\'s Is Your First Name?')\n",
    "mName = input('What\\'s Is Your Middle Name?')\n",
    "lName = input('What\\'s Is Your Last Name?')\n",
    "\n",
    "fName = fName.strip().capitalize()\n",
    "mName = mName.strip().capitalize()\n",
    "lName = lName.strip().capitalize()\n",
    "\n",
    "print(f\"Hello {fName} {mName:.1s} {lName} Happy To See You.\")"
   ]
  },
  {
   "attachments": {},
   "cell_type": "markdown",
   "metadata": {},
   "source": [
    "## 039 – Practical – Email Slice\n",
    "<a class=\"anchor\" id=\"39\"></a>"
   ]
  },
  {
   "cell_type": "code",
   "execution_count": 212,
   "metadata": {},
   "outputs": [
    {
     "name": "stdout",
     "output_type": "stream",
     "text": [
      "Osama\n"
     ]
    }
   ],
   "source": [
    "email = \"Osama@elzero.org\"\n",
    "print(email[:email.index(\"@\")])"
   ]
  },
  {
   "cell_type": "code",
   "execution_count": 213,
   "metadata": {},
   "outputs": [
    {
     "name": "stdout",
     "output_type": "stream",
     "text": [
      "Hello Ahmed Your Email Is Ahmedh457@gmail.com\n"
     ]
    }
   ],
   "source": [
    "theName = input('What\\'s Your Name ?').strip().capitalize()\n",
    "theEmail = input('What\\'s Your Email ?').strip()\n",
    "\n",
    "theUsername = theEmail[:theEmail.index(\"@\")]\n",
    "theWebsite = theEmail[theEmail.index(\"@\") + 1:]\n",
    "\n",
    "print(f\"Hello {theName} Your Email Is {theEmail}\")"
   ]
  },
  {
   "cell_type": "code",
   "execution_count": 214,
   "metadata": {},
   "outputs": [
    {
     "name": "stdout",
     "output_type": "stream",
     "text": [
      "Your Username Is Ahmedh457 \n",
      "Your Website Is gmail.com\n"
     ]
    }
   ],
   "source": [
    "print(f\"Your Username Is {theUsername} \\nYour Website Is {theWebsite}\")"
   ]
  },
  {
   "attachments": {},
   "cell_type": "markdown",
   "metadata": {},
   "source": [
    "## 040 – Practical – Your Age In Full Details\n",
    "<a class=\"anchor\" id=\"40\"></a>"
   ]
  },
  {
   "cell_type": "code",
   "execution_count": 215,
   "metadata": {},
   "outputs": [],
   "source": [
    "age = int(input('What\\'s Your Age ? ').strip())\n",
    "\n",
    "months = age * 12\n",
    "weeks = months * 4\n",
    "days = age * 365\n",
    "hours = days * 24\n",
    "minutes = hours * 60\n",
    "seconds = minutes * 60"
   ]
  },
  {
   "cell_type": "code",
   "execution_count": 216,
   "metadata": {},
   "outputs": [
    {
     "name": "stdout",
     "output_type": "stream",
     "text": [
      "You Lived For:\n",
      "252 Months.\n",
      "1,008 Weeks.\n",
      "7,665 Days.\n",
      "183,960 Hours.\n",
      "11,037,600 Minutes.\n",
      "662,256,000 Seconds.\n"
     ]
    }
   ],
   "source": [
    "print('You Lived For:')\n",
    "print(f\"{months} Months.\")\n",
    "print(f\"{weeks:,} Weeks.\")\n",
    "print(f\"{days:,} Days.\")\n",
    "print(f\"{hours:,} Hours.\")\n",
    "print(f\"{minutes:,} Minutes.\")\n",
    "print(f\"{seconds:,} Seconds.\")"
   ]
  }
 ],
 "metadata": {
  "kernelspec": {
   "display_name": "py311",
   "language": "python",
   "name": "python3"
  },
  "language_info": {
   "codemirror_mode": {
    "name": "ipython",
    "version": 3
   },
   "file_extension": ".py",
   "mimetype": "text/x-python",
   "name": "python",
   "nbconvert_exporter": "python",
   "pygments_lexer": "ipython3",
   "version": "3.11.0"
  },
  "orig_nbformat": 4,
  "vscode": {
   "interpreter": {
    "hash": "4d653c74ec4d6b65d44fa142843283f0d82d93af68dc12d96e6c1605a22833fa"
   }
  }
 },
 "nbformat": 4,
 "nbformat_minor": 2
}
